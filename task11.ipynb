{
 "cells": [
  {
   "cell_type": "code",
   "execution_count": 352,
   "id": "1e4b475b",
   "metadata": {},
   "outputs": [
    {
     "data": {
      "text/html": [
       "<div>\n",
       "<style scoped>\n",
       "    .dataframe tbody tr th:only-of-type {\n",
       "        vertical-align: middle;\n",
       "    }\n",
       "\n",
       "    .dataframe tbody tr th {\n",
       "        vertical-align: top;\n",
       "    }\n",
       "\n",
       "    .dataframe thead th {\n",
       "        text-align: right;\n",
       "    }\n",
       "</style>\n",
       "<table border=\"1\" class=\"dataframe\">\n",
       "  <thead>\n",
       "    <tr style=\"text-align: right;\">\n",
       "      <th></th>\n",
       "      <th>model</th>\n",
       "      <th>price</th>\n",
       "      <th>rating</th>\n",
       "      <th>sim</th>\n",
       "      <th>processor</th>\n",
       "      <th>ram</th>\n",
       "      <th>battery</th>\n",
       "      <th>display</th>\n",
       "      <th>camera</th>\n",
       "      <th>card</th>\n",
       "      <th>os</th>\n",
       "    </tr>\n",
       "  </thead>\n",
       "  <tbody>\n",
       "    <tr>\n",
       "      <th>0</th>\n",
       "      <td>OnePlus 11 5G</td>\n",
       "      <td>?54,999</td>\n",
       "      <td>89.0</td>\n",
       "      <td>Dual Sim, 3G, 4G, 5G, VoLTE, Wi-Fi, NFC</td>\n",
       "      <td>Snapdragon 8 Gen2, Octa Core, 3.2?GHz Processor</td>\n",
       "      <td>12?GB RAM, 256?GB inbuilt</td>\n",
       "      <td>5000?mAh Battery with 100W Fast Charging</td>\n",
       "      <td>6.7 inches, 1440?x?3216?px, 120 Hz Display wit...</td>\n",
       "      <td>50?MP + 48?MP + 32?MP Triple Rear &amp; 16?MP Fron...</td>\n",
       "      <td>Memory Card Not Supported</td>\n",
       "      <td>Android v13</td>\n",
       "    </tr>\n",
       "    <tr>\n",
       "      <th>1</th>\n",
       "      <td>OnePlus Nord CE 2 Lite 5G</td>\n",
       "      <td>?19,989</td>\n",
       "      <td>81.0</td>\n",
       "      <td>Dual Sim, 3G, 4G, 5G, VoLTE, Wi-Fi</td>\n",
       "      <td>Snapdragon 695, Octa Core, 2.2?GHz Processor</td>\n",
       "      <td>6?GB RAM, 128?GB inbuilt</td>\n",
       "      <td>5000?mAh Battery with 33W Fast Charging</td>\n",
       "      <td>6.59 inches, 1080?x?2412?px, 120 Hz Display wi...</td>\n",
       "      <td>64?MP + 2?MP + 2?MP Triple Rear &amp; 16?MP Front ...</td>\n",
       "      <td>Memory Card (Hybrid), upto 1?TB</td>\n",
       "      <td>Android v12</td>\n",
       "    </tr>\n",
       "    <tr>\n",
       "      <th>2</th>\n",
       "      <td>Samsung Galaxy A14 5G</td>\n",
       "      <td>?16,499</td>\n",
       "      <td>75.0</td>\n",
       "      <td>Dual Sim, 3G, 4G, 5G, VoLTE, Wi-Fi</td>\n",
       "      <td>Exynos 1330, Octa Core, 2.4?GHz Processor</td>\n",
       "      <td>4?GB RAM, 64?GB inbuilt</td>\n",
       "      <td>5000?mAh Battery with 15W Fast Charging</td>\n",
       "      <td>6.6 inches, 1080?x?2408?px, 90 Hz Display with...</td>\n",
       "      <td>50?MP + 2?MP + 2?MP Triple Rear &amp; 13?MP Front ...</td>\n",
       "      <td>Memory Card Supported, upto 1?TB</td>\n",
       "      <td>Android v13</td>\n",
       "    </tr>\n",
       "    <tr>\n",
       "      <th>3</th>\n",
       "      <td>Motorola Moto G62 5G</td>\n",
       "      <td>?14,999</td>\n",
       "      <td>81.0</td>\n",
       "      <td>Dual Sim, 3G, 4G, 5G, VoLTE, Wi-Fi</td>\n",
       "      <td>Snapdragon  695, Octa Core, 2.2?GHz Processor</td>\n",
       "      <td>6?GB RAM, 128?GB inbuilt</td>\n",
       "      <td>5000?mAh Battery with Fast Charging</td>\n",
       "      <td>6.55 inches, 1080?x?2400?px, 120 Hz Display wi...</td>\n",
       "      <td>50?MP + 8?MP + 2?MP Triple Rear &amp; 16?MP Front ...</td>\n",
       "      <td>Memory Card (Hybrid), upto 1?TB</td>\n",
       "      <td>Android v12</td>\n",
       "    </tr>\n",
       "    <tr>\n",
       "      <th>4</th>\n",
       "      <td>Realme 10 Pro Plus</td>\n",
       "      <td>?24,999</td>\n",
       "      <td>82.0</td>\n",
       "      <td>Dual Sim, 3G, 4G, 5G, VoLTE, Wi-Fi</td>\n",
       "      <td>Dimensity 1080, Octa Core, 2.6?GHz Processor</td>\n",
       "      <td>6?GB RAM, 128?GB inbuilt</td>\n",
       "      <td>5000?mAh Battery with 67W Fast Charging</td>\n",
       "      <td>6.7 inches, 1080?x?2412?px, 120 Hz Display wit...</td>\n",
       "      <td>108?MP + 8?MP + 2?MP Triple Rear &amp; 16?MP Front...</td>\n",
       "      <td>Memory Card Not Supported</td>\n",
       "      <td>Android v13</td>\n",
       "    </tr>\n",
       "    <tr>\n",
       "      <th>5</th>\n",
       "      <td>Samsung Galaxy F23 5G (6GB RAM + 128GB)</td>\n",
       "      <td>?16,999</td>\n",
       "      <td>80.0</td>\n",
       "      <td>Dual Sim, 3G, 4G, 5G, VoLTE, Wi-Fi, NFC</td>\n",
       "      <td>Snapdragon  750G, Octa Core, 2.2?GHz Processor</td>\n",
       "      <td>6?GB RAM, 128?GB inbuilt</td>\n",
       "      <td>5000?mAh Battery with 25W Fast Charging</td>\n",
       "      <td>6.6 inches, 1080?x?2408?px, 120 Hz Display wit...</td>\n",
       "      <td>50?MP + 8?MP + 2?MP Triple Rear &amp; 8?MP Front C...</td>\n",
       "      <td>Memory Card Supported, upto 1?TB</td>\n",
       "      <td>Android v12</td>\n",
       "    </tr>\n",
       "    <tr>\n",
       "      <th>6</th>\n",
       "      <td>Apple iPhone 14</td>\n",
       "      <td>?65,999</td>\n",
       "      <td>81.0</td>\n",
       "      <td>Dual Sim, 3G, 4G, 5G, VoLTE, Wi-Fi, NFC</td>\n",
       "      <td>Bionic A15, Hexa Core, 3.22?GHz Processor</td>\n",
       "      <td>6?GB RAM, 128?GB inbuilt</td>\n",
       "      <td>3279?mAh Battery with Fast Charging</td>\n",
       "      <td>6.1 inches, 1170?x?2532?px Display with Small ...</td>\n",
       "      <td>12?MP + 12?MP Dual Rear &amp; 12?MP Front Camera</td>\n",
       "      <td>Memory Card Not Supported</td>\n",
       "      <td>iOS v16</td>\n",
       "    </tr>\n",
       "    <tr>\n",
       "      <th>7</th>\n",
       "      <td>Xiaomi Redmi Note 12 Pro Plus</td>\n",
       "      <td>?29,999</td>\n",
       "      <td>86.0</td>\n",
       "      <td>Dual Sim, 3G, 4G, 5G, VoLTE, Wi-Fi, IR Blaster</td>\n",
       "      <td>Dimensity 1080, Octa Core, 2.6?GHz Processor</td>\n",
       "      <td>8?GB RAM, 256?GB inbuilt</td>\n",
       "      <td>4980?mAh Battery with 120W Fast Charging</td>\n",
       "      <td>6.67 inches, 1080?x?2400?px, 120 Hz Display wi...</td>\n",
       "      <td>200?MP + 8?MP + 2?MP Triple Rear &amp; 16?MP Front...</td>\n",
       "      <td>Memory Card Not Supported</td>\n",
       "      <td>Android v12</td>\n",
       "    </tr>\n",
       "    <tr>\n",
       "      <th>8</th>\n",
       "      <td>Nothing Phone 1</td>\n",
       "      <td>?26,749</td>\n",
       "      <td>85.0</td>\n",
       "      <td>Dual Sim, 3G, 4G, 5G, VoLTE, Wi-Fi, NFC</td>\n",
       "      <td>Snapdragon 778G Plus, Octa Core, 2.5?GHz Proce...</td>\n",
       "      <td>8?GB RAM, 128?GB inbuilt</td>\n",
       "      <td>4500?mAh Battery with 33W Fast Charging</td>\n",
       "      <td>6.55 inches, 1080?x?2400?px, 120 Hz Display wi...</td>\n",
       "      <td>50?MP + 50?MP Dual Rear &amp; 16?MP Front Camera</td>\n",
       "      <td>Android v12</td>\n",
       "      <td>No FM Radio</td>\n",
       "    </tr>\n",
       "    <tr>\n",
       "      <th>9</th>\n",
       "      <td>OnePlus Nord 2T 5G</td>\n",
       "      <td>?28,999</td>\n",
       "      <td>84.0</td>\n",
       "      <td>Dual Sim, 3G, 4G, 5G, VoLTE, Wi-Fi, NFC</td>\n",
       "      <td>Dimensity  1300, Octa Core, 3?GHz Processor</td>\n",
       "      <td>8?GB RAM, 128?GB inbuilt</td>\n",
       "      <td>4500?mAh Battery with 80W Fast Charging</td>\n",
       "      <td>6.43 inches, 1080?x?2400?px, 90 Hz Display wit...</td>\n",
       "      <td>50?MP + 8?MP + 2?MP Triple Rear &amp; 32?MP Front ...</td>\n",
       "      <td>Android v12</td>\n",
       "      <td>No FM Radio</td>\n",
       "    </tr>\n",
       "    <tr>\n",
       "      <th>10</th>\n",
       "      <td>Realme 10 Pro</td>\n",
       "      <td>?18,999</td>\n",
       "      <td>82.0</td>\n",
       "      <td>Dual Sim, 3G, 4G, 5G, VoLTE, Wi-Fi</td>\n",
       "      <td>Snapdragon 695, Octa Core, 2.2?GHz Processor</td>\n",
       "      <td>6?GB RAM, 128?GB inbuilt</td>\n",
       "      <td>5000?mAh Battery with 33W Fast Charging</td>\n",
       "      <td>6.72 inches, 1080?x?2400?px, 120 Hz Display wi...</td>\n",
       "      <td>108?MP + 2?MP Dual Rear &amp; 16?MP Front Camera</td>\n",
       "      <td>Memory Card Supported, upto 1?TB</td>\n",
       "      <td>Android v13</td>\n",
       "    </tr>\n",
       "    <tr>\n",
       "      <th>11</th>\n",
       "      <td>Oppo A78</td>\n",
       "      <td>?18,999</td>\n",
       "      <td>79.0</td>\n",
       "      <td>Dual Sim, 3G, 4G, 5G, VoLTE, Wi-Fi, NFC</td>\n",
       "      <td>Dimensity 700 5G, Octa Core, 2.2?GHz Processor</td>\n",
       "      <td>8?GB RAM, 128?GB inbuilt</td>\n",
       "      <td>5000?mAh Battery with 33W Fast Charging</td>\n",
       "      <td>6.56 inches, 720?x?1612?px, 90 Hz Display with...</td>\n",
       "      <td>50?MP + 2?MP Dual Rear &amp; 8?MP Front Camera</td>\n",
       "      <td>Memory Card Supported</td>\n",
       "      <td>Android v12</td>\n",
       "    </tr>\n",
       "    <tr>\n",
       "      <th>12</th>\n",
       "      <td>Xiaomi Redmi Note 12 Pro 5G</td>\n",
       "      <td>?24,762</td>\n",
       "      <td>79.0</td>\n",
       "      <td>Dual Sim, 3G, 4G, 5G, VoLTE, Wi-Fi, IR Blaster</td>\n",
       "      <td>Dimensity 1080, Octa Core, 2.6?GHz Processor</td>\n",
       "      <td>6?GB RAM, 128?GB inbuilt</td>\n",
       "      <td>5000?mAh Battery with 67W Fast Charging</td>\n",
       "      <td>6.67 inches, 1080?x?2400?px, 120 Hz Display wi...</td>\n",
       "      <td>50?MP + 8?MP + 2?MP Triple Rear &amp; 16?MP Front ...</td>\n",
       "      <td>Android v12</td>\n",
       "      <td>No FM Radio</td>\n",
       "    </tr>\n",
       "    <tr>\n",
       "      <th>13</th>\n",
       "      <td>Vivo T1 5G (6GB RAM + 128GB)</td>\n",
       "      <td>?16,990</td>\n",
       "      <td>80.0</td>\n",
       "      <td>Dual Sim, 3G, 4G, 5G, VoLTE, Wi-Fi</td>\n",
       "      <td>Snapdragon  695, Octa Core, 2.2?GHz Processor</td>\n",
       "      <td>6?GB RAM, 128?GB inbuilt</td>\n",
       "      <td>5000?mAh Battery with 18W Fast Charging</td>\n",
       "      <td>6.58 inches, 1080?x?2408?px, 120 Hz Display wi...</td>\n",
       "      <td>50?MP + 2?MP + 2?MP Triple Rear &amp; 16?MP Front ...</td>\n",
       "      <td>Memory Card (Hybrid), upto 1?TB</td>\n",
       "      <td>Android v12</td>\n",
       "    </tr>\n",
       "    <tr>\n",
       "      <th>14</th>\n",
       "      <td>Samsung Galaxy S23 Ultra 5G</td>\n",
       "      <td>?1,14,990</td>\n",
       "      <td>NaN</td>\n",
       "      <td>Dual Sim, 3G, 4G, 5G, VoLTE, Vo5G, Wi-Fi, NFC</td>\n",
       "      <td>Snapdragon 8 Gen2, Octa Core, 3.2?GHz Processor</td>\n",
       "      <td>8?GB RAM, 256?GB inbuilt</td>\n",
       "      <td>5000?mAh Battery with 45W Fast Charging</td>\n",
       "      <td>6.8 inches, 1440?x?3088?px, 120 Hz Display wit...</td>\n",
       "      <td>200?MP Quad Rear &amp; 12?MP Front Camera</td>\n",
       "      <td>Memory Card Not Supported</td>\n",
       "      <td>Android v13</td>\n",
       "    </tr>\n",
       "    <tr>\n",
       "      <th>15</th>\n",
       "      <td>Apple iPhone 13</td>\n",
       "      <td>?62,999</td>\n",
       "      <td>79.0</td>\n",
       "      <td>Dual Sim, 3G, 4G, 5G, VoLTE, Wi-Fi, NFC</td>\n",
       "      <td>Bionic A15, Hexa Core, 3.22?GHz Processor</td>\n",
       "      <td>4?GB RAM, 128?GB inbuilt</td>\n",
       "      <td>3240?mAh Battery with Fast Charging</td>\n",
       "      <td>6.1 inches, 1170?x?2532?px Display with Small ...</td>\n",
       "      <td>12?MP + 12?MP Dual Rear &amp; 12?MP Front Camera</td>\n",
       "      <td>Memory Card Not Supported</td>\n",
       "      <td>iOS v15</td>\n",
       "    </tr>\n",
       "    <tr>\n",
       "      <th>16</th>\n",
       "      <td>Vivo Y16</td>\n",
       "      <td>?9,999</td>\n",
       "      <td>65.0</td>\n",
       "      <td>Dual Sim, 3G, 4G, VoLTE, Wi-Fi</td>\n",
       "      <td>Helio P35, Octa Core, 2.3?GHz Processor</td>\n",
       "      <td>3?GB RAM, 32?GB inbuilt</td>\n",
       "      <td>5000?mAh Battery with 10W Fast Charging</td>\n",
       "      <td>6.51 inches, 720?x?1600?px Display with Water ...</td>\n",
       "      <td>13?MP + 2?MP Dual Rear &amp; 5?MP Front Camera</td>\n",
       "      <td>Memory Card Supported</td>\n",
       "      <td>Android v12</td>\n",
       "    </tr>\n",
       "    <tr>\n",
       "      <th>17</th>\n",
       "      <td>OPPO Reno 9 Pro Plus</td>\n",
       "      <td>?45,999</td>\n",
       "      <td>86.0</td>\n",
       "      <td>Dual Sim, 3G, 4G, 5G, VoLTE, Wi-Fi, NFC</td>\n",
       "      <td>Snapdragon 8+ Gen1, Octa Core, 3.2?GHz Processor</td>\n",
       "      <td>16?GB RAM, 256?GB inbuilt</td>\n",
       "      <td>4700?mAh Battery with 80W Fast Charging</td>\n",
       "      <td>6.7 inches, 1080?x?2412?px, 120 Hz Display wit...</td>\n",
       "      <td>50?MP + 8?MP + 2?MP Triple Rear &amp; 32?MP Front ...</td>\n",
       "      <td>Android v13</td>\n",
       "      <td>No FM Radio</td>\n",
       "    </tr>\n",
       "    <tr>\n",
       "      <th>18</th>\n",
       "      <td>OnePlus 10R 5G</td>\n",
       "      <td>?32,999</td>\n",
       "      <td>86.0</td>\n",
       "      <td>Dual Sim, 3G, 4G, 5G, VoLTE, Wi-Fi, NFC</td>\n",
       "      <td>Dimensity 8100 Max, Octa Core, 2.85?GHz Processor</td>\n",
       "      <td>8?GB RAM, 128?GB inbuilt</td>\n",
       "      <td>5000?mAh Battery with 80W Fast Charging</td>\n",
       "      <td>6.7 inches, 1080?x?2412?px, 120 Hz Display wit...</td>\n",
       "      <td>50?MP + 8?MP + 2?MP Triple Rear &amp; 16?MP Front ...</td>\n",
       "      <td>Android v12</td>\n",
       "      <td>Bluetooth</td>\n",
       "    </tr>\n",
       "    <tr>\n",
       "      <th>19</th>\n",
       "      <td>Vivo Y22</td>\n",
       "      <td>?14,499</td>\n",
       "      <td>72.0</td>\n",
       "      <td>Dual Sim, 3G, 4G, VoLTE, Wi-Fi</td>\n",
       "      <td>Helio G70, Octa Core, 2?GHz Processor</td>\n",
       "      <td>4?GB RAM, 64?GB inbuilt</td>\n",
       "      <td>5000?mAh Battery with 18W Fast Charging</td>\n",
       "      <td>6.55 inches, 720?x?1612?px Display with Water ...</td>\n",
       "      <td>50?MP + 2?MP Dual Rear &amp; 8?MP Front Camera</td>\n",
       "      <td>Memory Card Supported, upto 1?TB</td>\n",
       "      <td>Android v12</td>\n",
       "    </tr>\n",
       "  </tbody>\n",
       "</table>\n",
       "</div>"
      ],
      "text/plain": [
       "                                      model      price  rating  \\\n",
       "0                             OnePlus 11 5G    ?54,999    89.0   \n",
       "1                 OnePlus Nord CE 2 Lite 5G    ?19,989    81.0   \n",
       "2                     Samsung Galaxy A14 5G    ?16,499    75.0   \n",
       "3                      Motorola Moto G62 5G    ?14,999    81.0   \n",
       "4                        Realme 10 Pro Plus    ?24,999    82.0   \n",
       "5   Samsung Galaxy F23 5G (6GB RAM + 128GB)    ?16,999    80.0   \n",
       "6                           Apple iPhone 14    ?65,999    81.0   \n",
       "7             Xiaomi Redmi Note 12 Pro Plus    ?29,999    86.0   \n",
       "8                           Nothing Phone 1    ?26,749    85.0   \n",
       "9                        OnePlus Nord 2T 5G    ?28,999    84.0   \n",
       "10                            Realme 10 Pro    ?18,999    82.0   \n",
       "11                                 Oppo A78    ?18,999    79.0   \n",
       "12              Xiaomi Redmi Note 12 Pro 5G    ?24,762    79.0   \n",
       "13             Vivo T1 5G (6GB RAM + 128GB)    ?16,990    80.0   \n",
       "14              Samsung Galaxy S23 Ultra 5G  ?1,14,990     NaN   \n",
       "15                          Apple iPhone 13    ?62,999    79.0   \n",
       "16                                 Vivo Y16     ?9,999    65.0   \n",
       "17                     OPPO Reno 9 Pro Plus    ?45,999    86.0   \n",
       "18                           OnePlus 10R 5G    ?32,999    86.0   \n",
       "19                                 Vivo Y22    ?14,499    72.0   \n",
       "\n",
       "                                               sim  \\\n",
       "0          Dual Sim, 3G, 4G, 5G, VoLTE, Wi-Fi, NFC   \n",
       "1               Dual Sim, 3G, 4G, 5G, VoLTE, Wi-Fi   \n",
       "2               Dual Sim, 3G, 4G, 5G, VoLTE, Wi-Fi   \n",
       "3               Dual Sim, 3G, 4G, 5G, VoLTE, Wi-Fi   \n",
       "4               Dual Sim, 3G, 4G, 5G, VoLTE, Wi-Fi   \n",
       "5          Dual Sim, 3G, 4G, 5G, VoLTE, Wi-Fi, NFC   \n",
       "6          Dual Sim, 3G, 4G, 5G, VoLTE, Wi-Fi, NFC   \n",
       "7   Dual Sim, 3G, 4G, 5G, VoLTE, Wi-Fi, IR Blaster   \n",
       "8          Dual Sim, 3G, 4G, 5G, VoLTE, Wi-Fi, NFC   \n",
       "9          Dual Sim, 3G, 4G, 5G, VoLTE, Wi-Fi, NFC   \n",
       "10              Dual Sim, 3G, 4G, 5G, VoLTE, Wi-Fi   \n",
       "11         Dual Sim, 3G, 4G, 5G, VoLTE, Wi-Fi, NFC   \n",
       "12  Dual Sim, 3G, 4G, 5G, VoLTE, Wi-Fi, IR Blaster   \n",
       "13              Dual Sim, 3G, 4G, 5G, VoLTE, Wi-Fi   \n",
       "14   Dual Sim, 3G, 4G, 5G, VoLTE, Vo5G, Wi-Fi, NFC   \n",
       "15         Dual Sim, 3G, 4G, 5G, VoLTE, Wi-Fi, NFC   \n",
       "16                  Dual Sim, 3G, 4G, VoLTE, Wi-Fi   \n",
       "17         Dual Sim, 3G, 4G, 5G, VoLTE, Wi-Fi, NFC   \n",
       "18         Dual Sim, 3G, 4G, 5G, VoLTE, Wi-Fi, NFC   \n",
       "19                  Dual Sim, 3G, 4G, VoLTE, Wi-Fi   \n",
       "\n",
       "                                            processor  \\\n",
       "0     Snapdragon 8 Gen2, Octa Core, 3.2?GHz Processor   \n",
       "1        Snapdragon 695, Octa Core, 2.2?GHz Processor   \n",
       "2           Exynos 1330, Octa Core, 2.4?GHz Processor   \n",
       "3       Snapdragon  695, Octa Core, 2.2?GHz Processor   \n",
       "4        Dimensity 1080, Octa Core, 2.6?GHz Processor   \n",
       "5      Snapdragon  750G, Octa Core, 2.2?GHz Processor   \n",
       "6           Bionic A15, Hexa Core, 3.22?GHz Processor   \n",
       "7        Dimensity 1080, Octa Core, 2.6?GHz Processor   \n",
       "8   Snapdragon 778G Plus, Octa Core, 2.5?GHz Proce...   \n",
       "9         Dimensity  1300, Octa Core, 3?GHz Processor   \n",
       "10       Snapdragon 695, Octa Core, 2.2?GHz Processor   \n",
       "11     Dimensity 700 5G, Octa Core, 2.2?GHz Processor   \n",
       "12       Dimensity 1080, Octa Core, 2.6?GHz Processor   \n",
       "13      Snapdragon  695, Octa Core, 2.2?GHz Processor   \n",
       "14    Snapdragon 8 Gen2, Octa Core, 3.2?GHz Processor   \n",
       "15          Bionic A15, Hexa Core, 3.22?GHz Processor   \n",
       "16            Helio P35, Octa Core, 2.3?GHz Processor   \n",
       "17   Snapdragon 8+ Gen1, Octa Core, 3.2?GHz Processor   \n",
       "18  Dimensity 8100 Max, Octa Core, 2.85?GHz Processor   \n",
       "19              Helio G70, Octa Core, 2?GHz Processor   \n",
       "\n",
       "                          ram                                   battery  \\\n",
       "0   12?GB RAM, 256?GB inbuilt  5000?mAh Battery with 100W Fast Charging   \n",
       "1    6?GB RAM, 128?GB inbuilt   5000?mAh Battery with 33W Fast Charging   \n",
       "2     4?GB RAM, 64?GB inbuilt   5000?mAh Battery with 15W Fast Charging   \n",
       "3    6?GB RAM, 128?GB inbuilt       5000?mAh Battery with Fast Charging   \n",
       "4    6?GB RAM, 128?GB inbuilt   5000?mAh Battery with 67W Fast Charging   \n",
       "5    6?GB RAM, 128?GB inbuilt   5000?mAh Battery with 25W Fast Charging   \n",
       "6    6?GB RAM, 128?GB inbuilt       3279?mAh Battery with Fast Charging   \n",
       "7    8?GB RAM, 256?GB inbuilt  4980?mAh Battery with 120W Fast Charging   \n",
       "8    8?GB RAM, 128?GB inbuilt   4500?mAh Battery with 33W Fast Charging   \n",
       "9    8?GB RAM, 128?GB inbuilt   4500?mAh Battery with 80W Fast Charging   \n",
       "10   6?GB RAM, 128?GB inbuilt   5000?mAh Battery with 33W Fast Charging   \n",
       "11   8?GB RAM, 128?GB inbuilt   5000?mAh Battery with 33W Fast Charging   \n",
       "12   6?GB RAM, 128?GB inbuilt   5000?mAh Battery with 67W Fast Charging   \n",
       "13   6?GB RAM, 128?GB inbuilt   5000?mAh Battery with 18W Fast Charging   \n",
       "14   8?GB RAM, 256?GB inbuilt   5000?mAh Battery with 45W Fast Charging   \n",
       "15   4?GB RAM, 128?GB inbuilt       3240?mAh Battery with Fast Charging   \n",
       "16    3?GB RAM, 32?GB inbuilt   5000?mAh Battery with 10W Fast Charging   \n",
       "17  16?GB RAM, 256?GB inbuilt   4700?mAh Battery with 80W Fast Charging   \n",
       "18   8?GB RAM, 128?GB inbuilt   5000?mAh Battery with 80W Fast Charging   \n",
       "19    4?GB RAM, 64?GB inbuilt   5000?mAh Battery with 18W Fast Charging   \n",
       "\n",
       "                                              display  \\\n",
       "0   6.7 inches, 1440?x?3216?px, 120 Hz Display wit...   \n",
       "1   6.59 inches, 1080?x?2412?px, 120 Hz Display wi...   \n",
       "2   6.6 inches, 1080?x?2408?px, 90 Hz Display with...   \n",
       "3   6.55 inches, 1080?x?2400?px, 120 Hz Display wi...   \n",
       "4   6.7 inches, 1080?x?2412?px, 120 Hz Display wit...   \n",
       "5   6.6 inches, 1080?x?2408?px, 120 Hz Display wit...   \n",
       "6   6.1 inches, 1170?x?2532?px Display with Small ...   \n",
       "7   6.67 inches, 1080?x?2400?px, 120 Hz Display wi...   \n",
       "8   6.55 inches, 1080?x?2400?px, 120 Hz Display wi...   \n",
       "9   6.43 inches, 1080?x?2400?px, 90 Hz Display wit...   \n",
       "10  6.72 inches, 1080?x?2400?px, 120 Hz Display wi...   \n",
       "11  6.56 inches, 720?x?1612?px, 90 Hz Display with...   \n",
       "12  6.67 inches, 1080?x?2400?px, 120 Hz Display wi...   \n",
       "13  6.58 inches, 1080?x?2408?px, 120 Hz Display wi...   \n",
       "14  6.8 inches, 1440?x?3088?px, 120 Hz Display wit...   \n",
       "15  6.1 inches, 1170?x?2532?px Display with Small ...   \n",
       "16  6.51 inches, 720?x?1600?px Display with Water ...   \n",
       "17  6.7 inches, 1080?x?2412?px, 120 Hz Display wit...   \n",
       "18  6.7 inches, 1080?x?2412?px, 120 Hz Display wit...   \n",
       "19  6.55 inches, 720?x?1612?px Display with Water ...   \n",
       "\n",
       "                                               camera  \\\n",
       "0   50?MP + 48?MP + 32?MP Triple Rear & 16?MP Fron...   \n",
       "1   64?MP + 2?MP + 2?MP Triple Rear & 16?MP Front ...   \n",
       "2   50?MP + 2?MP + 2?MP Triple Rear & 13?MP Front ...   \n",
       "3   50?MP + 8?MP + 2?MP Triple Rear & 16?MP Front ...   \n",
       "4   108?MP + 8?MP + 2?MP Triple Rear & 16?MP Front...   \n",
       "5   50?MP + 8?MP + 2?MP Triple Rear & 8?MP Front C...   \n",
       "6        12?MP + 12?MP Dual Rear & 12?MP Front Camera   \n",
       "7   200?MP + 8?MP + 2?MP Triple Rear & 16?MP Front...   \n",
       "8        50?MP + 50?MP Dual Rear & 16?MP Front Camera   \n",
       "9   50?MP + 8?MP + 2?MP Triple Rear & 32?MP Front ...   \n",
       "10       108?MP + 2?MP Dual Rear & 16?MP Front Camera   \n",
       "11         50?MP + 2?MP Dual Rear & 8?MP Front Camera   \n",
       "12  50?MP + 8?MP + 2?MP Triple Rear & 16?MP Front ...   \n",
       "13  50?MP + 2?MP + 2?MP Triple Rear & 16?MP Front ...   \n",
       "14              200?MP Quad Rear & 12?MP Front Camera   \n",
       "15       12?MP + 12?MP Dual Rear & 12?MP Front Camera   \n",
       "16         13?MP + 2?MP Dual Rear & 5?MP Front Camera   \n",
       "17  50?MP + 8?MP + 2?MP Triple Rear & 32?MP Front ...   \n",
       "18  50?MP + 8?MP + 2?MP Triple Rear & 16?MP Front ...   \n",
       "19         50?MP + 2?MP Dual Rear & 8?MP Front Camera   \n",
       "\n",
       "                                card           os  \n",
       "0          Memory Card Not Supported  Android v13  \n",
       "1    Memory Card (Hybrid), upto 1?TB  Android v12  \n",
       "2   Memory Card Supported, upto 1?TB  Android v13  \n",
       "3    Memory Card (Hybrid), upto 1?TB  Android v12  \n",
       "4          Memory Card Not Supported  Android v13  \n",
       "5   Memory Card Supported, upto 1?TB  Android v12  \n",
       "6          Memory Card Not Supported      iOS v16  \n",
       "7          Memory Card Not Supported  Android v12  \n",
       "8                        Android v12  No FM Radio  \n",
       "9                        Android v12  No FM Radio  \n",
       "10  Memory Card Supported, upto 1?TB  Android v13  \n",
       "11             Memory Card Supported  Android v12  \n",
       "12                       Android v12  No FM Radio  \n",
       "13   Memory Card (Hybrid), upto 1?TB  Android v12  \n",
       "14         Memory Card Not Supported  Android v13  \n",
       "15         Memory Card Not Supported      iOS v15  \n",
       "16             Memory Card Supported  Android v12  \n",
       "17                       Android v13  No FM Radio  \n",
       "18                       Android v12    Bluetooth  \n",
       "19  Memory Card Supported, upto 1?TB  Android v12  "
      ]
     },
     "execution_count": 352,
     "metadata": {},
     "output_type": "execute_result"
    }
   ],
   "source": [
    "import pandas as pd\n",
    "import numpy as np\n",
    "import seaborn as sns\n",
    "import matplotlib.pyplot as plt\n",
    "import plotly.express as px\n",
    "\n",
    "df = pd.read_csv(r\"C:\\Users\\ASUS\\Desktop\\phone.csv\")\n",
    "df.head(20)"
   ]
  },
  {
   "cell_type": "code",
   "execution_count": null,
   "id": "493a1465",
   "metadata": {},
   "outputs": [],
   "source": []
  },
  {
   "cell_type": "code",
   "execution_count": 353,
   "id": "a5810596",
   "metadata": {},
   "outputs": [
    {
     "name": "stdout",
     "output_type": "stream",
     "text": [
      "<class 'pandas.core.frame.DataFrame'>\n",
      "RangeIndex: 1020 entries, 0 to 1019\n",
      "Data columns (total 11 columns):\n",
      " #   Column     Non-Null Count  Dtype  \n",
      "---  ------     --------------  -----  \n",
      " 0   model      1019 non-null   object \n",
      " 1   price      1020 non-null   object \n",
      " 2   rating     879 non-null    float64\n",
      " 3   sim        1020 non-null   object \n",
      " 4   processor  1020 non-null   object \n",
      " 5   ram        1020 non-null   object \n",
      " 6   battery    1020 non-null   object \n",
      " 7   display    1020 non-null   object \n",
      " 8   camera     1019 non-null   object \n",
      " 9   card       1013 non-null   object \n",
      " 10  os         1003 non-null   object \n",
      "dtypes: float64(1), object(10)\n",
      "memory usage: 87.8+ KB\n"
     ]
    }
   ],
   "source": [
    "df.info()"
   ]
  },
  {
   "cell_type": "code",
   "execution_count": null,
   "id": "38282290",
   "metadata": {},
   "outputs": [],
   "source": []
  },
  {
   "cell_type": "code",
   "execution_count": 354,
   "id": "21e86e32",
   "metadata": {},
   "outputs": [],
   "source": [
    "df.dropna(subset=['model'], inplace=True)"
   ]
  },
  {
   "cell_type": "code",
   "execution_count": 355,
   "id": "a6119037",
   "metadata": {},
   "outputs": [
    {
     "name": "stdout",
     "output_type": "stream",
     "text": [
      "<class 'pandas.core.frame.DataFrame'>\n",
      "Int64Index: 1019 entries, 0 to 1019\n",
      "Data columns (total 11 columns):\n",
      " #   Column     Non-Null Count  Dtype  \n",
      "---  ------     --------------  -----  \n",
      " 0   model      1019 non-null   object \n",
      " 1   price      1019 non-null   object \n",
      " 2   rating     878 non-null    float64\n",
      " 3   sim        1019 non-null   object \n",
      " 4   processor  1019 non-null   object \n",
      " 5   ram        1019 non-null   object \n",
      " 6   battery    1019 non-null   object \n",
      " 7   display    1019 non-null   object \n",
      " 8   camera     1018 non-null   object \n",
      " 9   card       1012 non-null   object \n",
      " 10  os         1002 non-null   object \n",
      "dtypes: float64(1), object(10)\n",
      "memory usage: 95.5+ KB\n"
     ]
    }
   ],
   "source": [
    "df.info()"
   ]
  },
  {
   "cell_type": "code",
   "execution_count": 356,
   "id": "375c30a3",
   "metadata": {},
   "outputs": [
    {
     "data": {
      "text/plain": [
       "model          0\n",
       "price          0\n",
       "rating       141\n",
       "sim            0\n",
       "processor      0\n",
       "ram            0\n",
       "battery        0\n",
       "display        0\n",
       "camera         1\n",
       "card           7\n",
       "os            17\n",
       "dtype: int64"
      ]
     },
     "execution_count": 356,
     "metadata": {},
     "output_type": "execute_result"
    }
   ],
   "source": [
    "df.isnull().sum()"
   ]
  },
  {
   "cell_type": "code",
   "execution_count": 357,
   "id": "8c32edb2",
   "metadata": {},
   "outputs": [],
   "source": [
    "df[\"rating\"].fillna(round(df[\"rating\"].mean()),inplace=True)\n",
    "df[\"os\"].fillna(df[\"os\"].mode(),inplace=True)\n",
    "df.dropna(inplace=True)"
   ]
  },
  {
   "cell_type": "code",
   "execution_count": 358,
   "id": "bbd2ca6f",
   "metadata": {},
   "outputs": [
    {
     "name": "stdout",
     "output_type": "stream",
     "text": [
      "model - 1002\n",
      "price - 399\n",
      "rating - 30\n",
      "sim - 25\n",
      "processor - 289\n",
      "ram - 45\n",
      "battery - 244\n",
      "display - 359\n",
      "camera - 280\n",
      "card - 61\n",
      "os - 48\n"
     ]
    }
   ],
   "source": [
    "columns=df.columns\n",
    "for i in columns:\n",
    "    print(i,\"-\",df[i].nunique())"
   ]
  },
  {
   "cell_type": "code",
   "execution_count": 359,
   "id": "1fe021ce",
   "metadata": {},
   "outputs": [
    {
     "name": "stdout",
     "output_type": "stream",
     "text": [
      "<class 'pandas.core.frame.DataFrame'>\n",
      "Int64Index: 1002 entries, 0 to 1019\n",
      "Data columns (total 11 columns):\n",
      " #   Column     Non-Null Count  Dtype  \n",
      "---  ------     --------------  -----  \n",
      " 0   model      1002 non-null   object \n",
      " 1   price      1002 non-null   object \n",
      " 2   rating     1002 non-null   float64\n",
      " 3   sim        1002 non-null   object \n",
      " 4   processor  1002 non-null   object \n",
      " 5   ram        1002 non-null   object \n",
      " 6   battery    1002 non-null   object \n",
      " 7   display    1002 non-null   object \n",
      " 8   camera     1002 non-null   object \n",
      " 9   card       1002 non-null   object \n",
      " 10  os         1002 non-null   object \n",
      "dtypes: float64(1), object(10)\n",
      "memory usage: 93.9+ KB\n"
     ]
    },
    {
     "data": {
      "text/plain": [
       "model        0\n",
       "price        0\n",
       "rating       0\n",
       "sim          0\n",
       "processor    0\n",
       "ram          0\n",
       "battery      0\n",
       "display      0\n",
       "camera       0\n",
       "card         0\n",
       "os           0\n",
       "dtype: int64"
      ]
     },
     "execution_count": 359,
     "metadata": {},
     "output_type": "execute_result"
    }
   ],
   "source": [
    "df.info()\n",
    "df.isnull().sum()"
   ]
  },
  {
   "cell_type": "code",
   "execution_count": 360,
   "id": "a18ca3e4",
   "metadata": {},
   "outputs": [
    {
     "data": {
      "text/html": [
       "<div>\n",
       "<style scoped>\n",
       "    .dataframe tbody tr th:only-of-type {\n",
       "        vertical-align: middle;\n",
       "    }\n",
       "\n",
       "    .dataframe tbody tr th {\n",
       "        vertical-align: top;\n",
       "    }\n",
       "\n",
       "    .dataframe thead th {\n",
       "        text-align: right;\n",
       "    }\n",
       "</style>\n",
       "<table border=\"1\" class=\"dataframe\">\n",
       "  <thead>\n",
       "    <tr style=\"text-align: right;\">\n",
       "      <th></th>\n",
       "      <th>model</th>\n",
       "      <th>price</th>\n",
       "      <th>rating</th>\n",
       "      <th>sim</th>\n",
       "      <th>processor</th>\n",
       "      <th>ram</th>\n",
       "      <th>battery</th>\n",
       "      <th>display</th>\n",
       "      <th>camera</th>\n",
       "      <th>card</th>\n",
       "      <th>os</th>\n",
       "    </tr>\n",
       "  </thead>\n",
       "  <tbody>\n",
       "    <tr>\n",
       "      <th>0</th>\n",
       "      <td>OnePlus 11 5G</td>\n",
       "      <td>?54,999</td>\n",
       "      <td>89.0</td>\n",
       "      <td>Dual Sim, 3G, 4G, 5G, VoLTE, Wi-Fi, NFC</td>\n",
       "      <td>Snapdragon 8 Gen2, Octa Core, 3.2?GHz Processor</td>\n",
       "      <td>12?GB RAM, 256?GB inbuilt</td>\n",
       "      <td>5000?mAh Battery with 100W Fast Charging</td>\n",
       "      <td>6.7 inches, 1440?x?3216?px, 120 Hz Display wit...</td>\n",
       "      <td>50?MP + 48?MP + 32?MP Triple Rear &amp; 16?MP Fron...</td>\n",
       "      <td>Memory Card Not Supported</td>\n",
       "      <td>Android v13</td>\n",
       "    </tr>\n",
       "    <tr>\n",
       "      <th>1</th>\n",
       "      <td>OnePlus Nord CE 2 Lite 5G</td>\n",
       "      <td>?19,989</td>\n",
       "      <td>81.0</td>\n",
       "      <td>Dual Sim, 3G, 4G, 5G, VoLTE, Wi-Fi</td>\n",
       "      <td>Snapdragon 695, Octa Core, 2.2?GHz Processor</td>\n",
       "      <td>6?GB RAM, 128?GB inbuilt</td>\n",
       "      <td>5000?mAh Battery with 33W Fast Charging</td>\n",
       "      <td>6.59 inches, 1080?x?2412?px, 120 Hz Display wi...</td>\n",
       "      <td>64?MP + 2?MP + 2?MP Triple Rear &amp; 16?MP Front ...</td>\n",
       "      <td>Memory Card (Hybrid), upto 1?TB</td>\n",
       "      <td>Android v12</td>\n",
       "    </tr>\n",
       "    <tr>\n",
       "      <th>2</th>\n",
       "      <td>Samsung Galaxy A14 5G</td>\n",
       "      <td>?16,499</td>\n",
       "      <td>75.0</td>\n",
       "      <td>Dual Sim, 3G, 4G, 5G, VoLTE, Wi-Fi</td>\n",
       "      <td>Exynos 1330, Octa Core, 2.4?GHz Processor</td>\n",
       "      <td>4?GB RAM, 64?GB inbuilt</td>\n",
       "      <td>5000?mAh Battery with 15W Fast Charging</td>\n",
       "      <td>6.6 inches, 1080?x?2408?px, 90 Hz Display with...</td>\n",
       "      <td>50?MP + 2?MP + 2?MP Triple Rear &amp; 13?MP Front ...</td>\n",
       "      <td>Memory Card Supported, upto 1?TB</td>\n",
       "      <td>Android v13</td>\n",
       "    </tr>\n",
       "    <tr>\n",
       "      <th>3</th>\n",
       "      <td>Motorola Moto G62 5G</td>\n",
       "      <td>?14,999</td>\n",
       "      <td>81.0</td>\n",
       "      <td>Dual Sim, 3G, 4G, 5G, VoLTE, Wi-Fi</td>\n",
       "      <td>Snapdragon  695, Octa Core, 2.2?GHz Processor</td>\n",
       "      <td>6?GB RAM, 128?GB inbuilt</td>\n",
       "      <td>5000?mAh Battery with Fast Charging</td>\n",
       "      <td>6.55 inches, 1080?x?2400?px, 120 Hz Display wi...</td>\n",
       "      <td>50?MP + 8?MP + 2?MP Triple Rear &amp; 16?MP Front ...</td>\n",
       "      <td>Memory Card (Hybrid), upto 1?TB</td>\n",
       "      <td>Android v12</td>\n",
       "    </tr>\n",
       "    <tr>\n",
       "      <th>4</th>\n",
       "      <td>Realme 10 Pro Plus</td>\n",
       "      <td>?24,999</td>\n",
       "      <td>82.0</td>\n",
       "      <td>Dual Sim, 3G, 4G, 5G, VoLTE, Wi-Fi</td>\n",
       "      <td>Dimensity 1080, Octa Core, 2.6?GHz Processor</td>\n",
       "      <td>6?GB RAM, 128?GB inbuilt</td>\n",
       "      <td>5000?mAh Battery with 67W Fast Charging</td>\n",
       "      <td>6.7 inches, 1080?x?2412?px, 120 Hz Display wit...</td>\n",
       "      <td>108?MP + 8?MP + 2?MP Triple Rear &amp; 16?MP Front...</td>\n",
       "      <td>Memory Card Not Supported</td>\n",
       "      <td>Android v13</td>\n",
       "    </tr>\n",
       "    <tr>\n",
       "      <th>5</th>\n",
       "      <td>Samsung Galaxy F23 5G (6GB RAM + 128GB)</td>\n",
       "      <td>?16,999</td>\n",
       "      <td>80.0</td>\n",
       "      <td>Dual Sim, 3G, 4G, 5G, VoLTE, Wi-Fi, NFC</td>\n",
       "      <td>Snapdragon  750G, Octa Core, 2.2?GHz Processor</td>\n",
       "      <td>6?GB RAM, 128?GB inbuilt</td>\n",
       "      <td>5000?mAh Battery with 25W Fast Charging</td>\n",
       "      <td>6.6 inches, 1080?x?2408?px, 120 Hz Display wit...</td>\n",
       "      <td>50?MP + 8?MP + 2?MP Triple Rear &amp; 8?MP Front C...</td>\n",
       "      <td>Memory Card Supported, upto 1?TB</td>\n",
       "      <td>Android v12</td>\n",
       "    </tr>\n",
       "    <tr>\n",
       "      <th>6</th>\n",
       "      <td>Apple iPhone 14</td>\n",
       "      <td>?65,999</td>\n",
       "      <td>81.0</td>\n",
       "      <td>Dual Sim, 3G, 4G, 5G, VoLTE, Wi-Fi, NFC</td>\n",
       "      <td>Bionic A15, Hexa Core, 3.22?GHz Processor</td>\n",
       "      <td>6?GB RAM, 128?GB inbuilt</td>\n",
       "      <td>3279?mAh Battery with Fast Charging</td>\n",
       "      <td>6.1 inches, 1170?x?2532?px Display with Small ...</td>\n",
       "      <td>12?MP + 12?MP Dual Rear &amp; 12?MP Front Camera</td>\n",
       "      <td>Memory Card Not Supported</td>\n",
       "      <td>iOS v16</td>\n",
       "    </tr>\n",
       "    <tr>\n",
       "      <th>7</th>\n",
       "      <td>Xiaomi Redmi Note 12 Pro Plus</td>\n",
       "      <td>?29,999</td>\n",
       "      <td>86.0</td>\n",
       "      <td>Dual Sim, 3G, 4G, 5G, VoLTE, Wi-Fi, IR Blaster</td>\n",
       "      <td>Dimensity 1080, Octa Core, 2.6?GHz Processor</td>\n",
       "      <td>8?GB RAM, 256?GB inbuilt</td>\n",
       "      <td>4980?mAh Battery with 120W Fast Charging</td>\n",
       "      <td>6.67 inches, 1080?x?2400?px, 120 Hz Display wi...</td>\n",
       "      <td>200?MP + 8?MP + 2?MP Triple Rear &amp; 16?MP Front...</td>\n",
       "      <td>Memory Card Not Supported</td>\n",
       "      <td>Android v12</td>\n",
       "    </tr>\n",
       "    <tr>\n",
       "      <th>8</th>\n",
       "      <td>Nothing Phone 1</td>\n",
       "      <td>?26,749</td>\n",
       "      <td>85.0</td>\n",
       "      <td>Dual Sim, 3G, 4G, 5G, VoLTE, Wi-Fi, NFC</td>\n",
       "      <td>Snapdragon 778G Plus, Octa Core, 2.5?GHz Proce...</td>\n",
       "      <td>8?GB RAM, 128?GB inbuilt</td>\n",
       "      <td>4500?mAh Battery with 33W Fast Charging</td>\n",
       "      <td>6.55 inches, 1080?x?2400?px, 120 Hz Display wi...</td>\n",
       "      <td>50?MP + 50?MP Dual Rear &amp; 16?MP Front Camera</td>\n",
       "      <td>Android v12</td>\n",
       "      <td>No FM Radio</td>\n",
       "    </tr>\n",
       "    <tr>\n",
       "      <th>9</th>\n",
       "      <td>OnePlus Nord 2T 5G</td>\n",
       "      <td>?28,999</td>\n",
       "      <td>84.0</td>\n",
       "      <td>Dual Sim, 3G, 4G, 5G, VoLTE, Wi-Fi, NFC</td>\n",
       "      <td>Dimensity  1300, Octa Core, 3?GHz Processor</td>\n",
       "      <td>8?GB RAM, 128?GB inbuilt</td>\n",
       "      <td>4500?mAh Battery with 80W Fast Charging</td>\n",
       "      <td>6.43 inches, 1080?x?2400?px, 90 Hz Display wit...</td>\n",
       "      <td>50?MP + 8?MP + 2?MP Triple Rear &amp; 32?MP Front ...</td>\n",
       "      <td>Android v12</td>\n",
       "      <td>No FM Radio</td>\n",
       "    </tr>\n",
       "    <tr>\n",
       "      <th>10</th>\n",
       "      <td>Realme 10 Pro</td>\n",
       "      <td>?18,999</td>\n",
       "      <td>82.0</td>\n",
       "      <td>Dual Sim, 3G, 4G, 5G, VoLTE, Wi-Fi</td>\n",
       "      <td>Snapdragon 695, Octa Core, 2.2?GHz Processor</td>\n",
       "      <td>6?GB RAM, 128?GB inbuilt</td>\n",
       "      <td>5000?mAh Battery with 33W Fast Charging</td>\n",
       "      <td>6.72 inches, 1080?x?2400?px, 120 Hz Display wi...</td>\n",
       "      <td>108?MP + 2?MP Dual Rear &amp; 16?MP Front Camera</td>\n",
       "      <td>Memory Card Supported, upto 1?TB</td>\n",
       "      <td>Android v13</td>\n",
       "    </tr>\n",
       "    <tr>\n",
       "      <th>11</th>\n",
       "      <td>Oppo A78</td>\n",
       "      <td>?18,999</td>\n",
       "      <td>79.0</td>\n",
       "      <td>Dual Sim, 3G, 4G, 5G, VoLTE, Wi-Fi, NFC</td>\n",
       "      <td>Dimensity 700 5G, Octa Core, 2.2?GHz Processor</td>\n",
       "      <td>8?GB RAM, 128?GB inbuilt</td>\n",
       "      <td>5000?mAh Battery with 33W Fast Charging</td>\n",
       "      <td>6.56 inches, 720?x?1612?px, 90 Hz Display with...</td>\n",
       "      <td>50?MP + 2?MP Dual Rear &amp; 8?MP Front Camera</td>\n",
       "      <td>Memory Card Supported</td>\n",
       "      <td>Android v12</td>\n",
       "    </tr>\n",
       "    <tr>\n",
       "      <th>12</th>\n",
       "      <td>Xiaomi Redmi Note 12 Pro 5G</td>\n",
       "      <td>?24,762</td>\n",
       "      <td>79.0</td>\n",
       "      <td>Dual Sim, 3G, 4G, 5G, VoLTE, Wi-Fi, IR Blaster</td>\n",
       "      <td>Dimensity 1080, Octa Core, 2.6?GHz Processor</td>\n",
       "      <td>6?GB RAM, 128?GB inbuilt</td>\n",
       "      <td>5000?mAh Battery with 67W Fast Charging</td>\n",
       "      <td>6.67 inches, 1080?x?2400?px, 120 Hz Display wi...</td>\n",
       "      <td>50?MP + 8?MP + 2?MP Triple Rear &amp; 16?MP Front ...</td>\n",
       "      <td>Android v12</td>\n",
       "      <td>No FM Radio</td>\n",
       "    </tr>\n",
       "    <tr>\n",
       "      <th>13</th>\n",
       "      <td>Vivo T1 5G (6GB RAM + 128GB)</td>\n",
       "      <td>?16,990</td>\n",
       "      <td>80.0</td>\n",
       "      <td>Dual Sim, 3G, 4G, 5G, VoLTE, Wi-Fi</td>\n",
       "      <td>Snapdragon  695, Octa Core, 2.2?GHz Processor</td>\n",
       "      <td>6?GB RAM, 128?GB inbuilt</td>\n",
       "      <td>5000?mAh Battery with 18W Fast Charging</td>\n",
       "      <td>6.58 inches, 1080?x?2408?px, 120 Hz Display wi...</td>\n",
       "      <td>50?MP + 2?MP + 2?MP Triple Rear &amp; 16?MP Front ...</td>\n",
       "      <td>Memory Card (Hybrid), upto 1?TB</td>\n",
       "      <td>Android v12</td>\n",
       "    </tr>\n",
       "    <tr>\n",
       "      <th>14</th>\n",
       "      <td>Samsung Galaxy S23 Ultra 5G</td>\n",
       "      <td>?1,14,990</td>\n",
       "      <td>78.0</td>\n",
       "      <td>Dual Sim, 3G, 4G, 5G, VoLTE, Vo5G, Wi-Fi, NFC</td>\n",
       "      <td>Snapdragon 8 Gen2, Octa Core, 3.2?GHz Processor</td>\n",
       "      <td>8?GB RAM, 256?GB inbuilt</td>\n",
       "      <td>5000?mAh Battery with 45W Fast Charging</td>\n",
       "      <td>6.8 inches, 1440?x?3088?px, 120 Hz Display wit...</td>\n",
       "      <td>200?MP Quad Rear &amp; 12?MP Front Camera</td>\n",
       "      <td>Memory Card Not Supported</td>\n",
       "      <td>Android v13</td>\n",
       "    </tr>\n",
       "    <tr>\n",
       "      <th>15</th>\n",
       "      <td>Apple iPhone 13</td>\n",
       "      <td>?62,999</td>\n",
       "      <td>79.0</td>\n",
       "      <td>Dual Sim, 3G, 4G, 5G, VoLTE, Wi-Fi, NFC</td>\n",
       "      <td>Bionic A15, Hexa Core, 3.22?GHz Processor</td>\n",
       "      <td>4?GB RAM, 128?GB inbuilt</td>\n",
       "      <td>3240?mAh Battery with Fast Charging</td>\n",
       "      <td>6.1 inches, 1170?x?2532?px Display with Small ...</td>\n",
       "      <td>12?MP + 12?MP Dual Rear &amp; 12?MP Front Camera</td>\n",
       "      <td>Memory Card Not Supported</td>\n",
       "      <td>iOS v15</td>\n",
       "    </tr>\n",
       "    <tr>\n",
       "      <th>16</th>\n",
       "      <td>Vivo Y16</td>\n",
       "      <td>?9,999</td>\n",
       "      <td>65.0</td>\n",
       "      <td>Dual Sim, 3G, 4G, VoLTE, Wi-Fi</td>\n",
       "      <td>Helio P35, Octa Core, 2.3?GHz Processor</td>\n",
       "      <td>3?GB RAM, 32?GB inbuilt</td>\n",
       "      <td>5000?mAh Battery with 10W Fast Charging</td>\n",
       "      <td>6.51 inches, 720?x?1600?px Display with Water ...</td>\n",
       "      <td>13?MP + 2?MP Dual Rear &amp; 5?MP Front Camera</td>\n",
       "      <td>Memory Card Supported</td>\n",
       "      <td>Android v12</td>\n",
       "    </tr>\n",
       "    <tr>\n",
       "      <th>17</th>\n",
       "      <td>OPPO Reno 9 Pro Plus</td>\n",
       "      <td>?45,999</td>\n",
       "      <td>86.0</td>\n",
       "      <td>Dual Sim, 3G, 4G, 5G, VoLTE, Wi-Fi, NFC</td>\n",
       "      <td>Snapdragon 8+ Gen1, Octa Core, 3.2?GHz Processor</td>\n",
       "      <td>16?GB RAM, 256?GB inbuilt</td>\n",
       "      <td>4700?mAh Battery with 80W Fast Charging</td>\n",
       "      <td>6.7 inches, 1080?x?2412?px, 120 Hz Display wit...</td>\n",
       "      <td>50?MP + 8?MP + 2?MP Triple Rear &amp; 32?MP Front ...</td>\n",
       "      <td>Android v13</td>\n",
       "      <td>No FM Radio</td>\n",
       "    </tr>\n",
       "    <tr>\n",
       "      <th>18</th>\n",
       "      <td>OnePlus 10R 5G</td>\n",
       "      <td>?32,999</td>\n",
       "      <td>86.0</td>\n",
       "      <td>Dual Sim, 3G, 4G, 5G, VoLTE, Wi-Fi, NFC</td>\n",
       "      <td>Dimensity 8100 Max, Octa Core, 2.85?GHz Processor</td>\n",
       "      <td>8?GB RAM, 128?GB inbuilt</td>\n",
       "      <td>5000?mAh Battery with 80W Fast Charging</td>\n",
       "      <td>6.7 inches, 1080?x?2412?px, 120 Hz Display wit...</td>\n",
       "      <td>50?MP + 8?MP + 2?MP Triple Rear &amp; 16?MP Front ...</td>\n",
       "      <td>Android v12</td>\n",
       "      <td>Bluetooth</td>\n",
       "    </tr>\n",
       "    <tr>\n",
       "      <th>19</th>\n",
       "      <td>Vivo Y22</td>\n",
       "      <td>?14,499</td>\n",
       "      <td>72.0</td>\n",
       "      <td>Dual Sim, 3G, 4G, VoLTE, Wi-Fi</td>\n",
       "      <td>Helio G70, Octa Core, 2?GHz Processor</td>\n",
       "      <td>4?GB RAM, 64?GB inbuilt</td>\n",
       "      <td>5000?mAh Battery with 18W Fast Charging</td>\n",
       "      <td>6.55 inches, 720?x?1612?px Display with Water ...</td>\n",
       "      <td>50?MP + 2?MP Dual Rear &amp; 8?MP Front Camera</td>\n",
       "      <td>Memory Card Supported, upto 1?TB</td>\n",
       "      <td>Android v12</td>\n",
       "    </tr>\n",
       "    <tr>\n",
       "      <th>20</th>\n",
       "      <td>OnePlus 11R</td>\n",
       "      <td>?39,999</td>\n",
       "      <td>85.0</td>\n",
       "      <td>Dual Sim, 3G, 4G, 5G, VoLTE, Wi-Fi, NFC</td>\n",
       "      <td>Snapdragon  8+ Gen1, Octa Core, 3.2?GHz Processor</td>\n",
       "      <td>8?GB RAM, 128?GB inbuilt</td>\n",
       "      <td>5000?mAh Battery with 100W Fast Charging</td>\n",
       "      <td>6.7 inches, 1080?x?2412?px, 120 Hz Display wit...</td>\n",
       "      <td>50?MP + 12?MP + 2?MP Triple Rear &amp; 16?MP Front...</td>\n",
       "      <td>Android v13</td>\n",
       "      <td>Bluetooth</td>\n",
       "    </tr>\n",
       "    <tr>\n",
       "      <th>21</th>\n",
       "      <td>Vivo V25 Pro 5G</td>\n",
       "      <td>?35,999</td>\n",
       "      <td>85.0</td>\n",
       "      <td>Dual Sim, 3G, 4G, 5G, VoLTE, Wi-Fi</td>\n",
       "      <td>Dimensity 1300, Octa Core, 3?GHz Processor</td>\n",
       "      <td>8?GB RAM, 128?GB inbuilt</td>\n",
       "      <td>4830?mAh Battery with 66W Fast Charging</td>\n",
       "      <td>6.56 inches, 1080?x?2376?px, 120 Hz Display wi...</td>\n",
       "      <td>64?MP + 8?MP + 2?MP Triple Rear &amp; 32?MP Front ...</td>\n",
       "      <td>Android v12</td>\n",
       "      <td>No FM Radio</td>\n",
       "    </tr>\n",
       "    <tr>\n",
       "      <th>22</th>\n",
       "      <td>Poco X4 Pro 5G</td>\n",
       "      <td>?14,999</td>\n",
       "      <td>80.0</td>\n",
       "      <td>Dual Sim, 3G, 4G, 5G, VoLTE, Wi-Fi, IR Blaster</td>\n",
       "      <td>Snapdragon 695 , Octa Core, 2.2?GHz Processor</td>\n",
       "      <td>6?GB RAM, 64?GB inbuilt</td>\n",
       "      <td>5000?mAh Battery with 67W Fast Charging</td>\n",
       "      <td>6.67 inches, 1080?x?2400?px, 120 Hz Display wi...</td>\n",
       "      <td>64?MP + 8?MP + 2?MP Triple Rear &amp; 16?MP Front ...</td>\n",
       "      <td>Memory Card (Hybrid), upto 1?TB</td>\n",
       "      <td>Android v11</td>\n",
       "    </tr>\n",
       "    <tr>\n",
       "      <th>23</th>\n",
       "      <td>Xiaomi Redmi Note 12</td>\n",
       "      <td>?17,859</td>\n",
       "      <td>76.0</td>\n",
       "      <td>Dual Sim, 3G, 4G, 5G, VoLTE, Wi-Fi, IR Blaster</td>\n",
       "      <td>Snapdragon 4 Gen 1, Octa Core, 2?GHz Processor</td>\n",
       "      <td>4?GB RAM, 128?GB inbuilt</td>\n",
       "      <td>5000?mAh Battery with 33W Fast Charging</td>\n",
       "      <td>6.67 inches, 1080?x?2400?px, 120 Hz Display wi...</td>\n",
       "      <td>48?MP + 8?MP + 2?MP Triple Rear &amp; 13?MP Front ...</td>\n",
       "      <td>Memory Card (Hybrid), upto 1?TB</td>\n",
       "      <td>Android v12</td>\n",
       "    </tr>\n",
       "    <tr>\n",
       "      <th>24</th>\n",
       "      <td>Vivo V26 Pro</td>\n",
       "      <td>?42,990</td>\n",
       "      <td>87.0</td>\n",
       "      <td>Dual Sim, 3G, 4G, 5G, VoLTE, Wi-Fi, NFC</td>\n",
       "      <td>Dimensity 9000 Plus, Octa Core, 3.2?GHz Processor</td>\n",
       "      <td>12?GB RAM, 256?GB inbuilt</td>\n",
       "      <td>4800?mAh Battery with 100W Fast Charging</td>\n",
       "      <td>6.7 inches, 1080?x?2400?px, 120 Hz Display wit...</td>\n",
       "      <td>64?MP + 8?MP + 2?MP Triple Rear &amp; 32?MP Front ...</td>\n",
       "      <td>Android v13</td>\n",
       "      <td>No FM Radio</td>\n",
       "    </tr>\n",
       "    <tr>\n",
       "      <th>25</th>\n",
       "      <td>Samsung Galaxy S20 FE 5G</td>\n",
       "      <td>?31,239</td>\n",
       "      <td>88.0</td>\n",
       "      <td>Dual Sim, 3G, 4G, 5G, VoLTE, Wi-Fi, NFC</td>\n",
       "      <td>Snapdragon 865, Octa Core, 2.84?GHz Processor</td>\n",
       "      <td>8?GB RAM, 128?GB inbuilt</td>\n",
       "      <td>4500?mAh Battery with Fast Charging</td>\n",
       "      <td>6.5 inches, 1080?x?2400?px, 120 Hz Display wit...</td>\n",
       "      <td>12?MP + 12?MP + 8?MP Triple Rear &amp; 32?MP Front...</td>\n",
       "      <td>Memory Card (Hybrid)</td>\n",
       "      <td>Android v10</td>\n",
       "    </tr>\n",
       "    <tr>\n",
       "      <th>26</th>\n",
       "      <td>OnePlus Nord CE 2 Lite 5G (8GB RAM + 128GB)</td>\n",
       "      <td>?21,995</td>\n",
       "      <td>84.0</td>\n",
       "      <td>Dual Sim, 3G, 4G, 5G, VoLTE, Wi-Fi</td>\n",
       "      <td>Snapdragon 695, Octa Core, 2.2?GHz Processor</td>\n",
       "      <td>8?GB RAM, 128?GB inbuilt</td>\n",
       "      <td>5000?mAh Battery with 33W Fast Charging</td>\n",
       "      <td>6.59 inches, 1080?x?2412?px, 120 Hz Display wi...</td>\n",
       "      <td>64?MP + 2?MP + 2?MP Triple Rear &amp; 16?MP Front ...</td>\n",
       "      <td>Memory Card (Hybrid), upto 1?TB</td>\n",
       "      <td>Android v12</td>\n",
       "    </tr>\n",
       "    <tr>\n",
       "      <th>27</th>\n",
       "      <td>Apple iPhone 14 Pro Max</td>\n",
       "      <td>?1,29,990</td>\n",
       "      <td>76.0</td>\n",
       "      <td>Dual Sim, 3G, 4G, 5G, VoLTE, Wi-Fi, NFC</td>\n",
       "      <td>Bionic  A16, Hexa Core Processor</td>\n",
       "      <td>6?GB RAM, 128?GB inbuilt</td>\n",
       "      <td>4323?mAh Battery with Fast Charging</td>\n",
       "      <td>6.7 inches, 1290?x?2796?px, 120 Hz Display</td>\n",
       "      <td>48?MP + 12?MP + 12?MP Triple Rear &amp; 12?MP Fron...</td>\n",
       "      <td>Memory Card Not Supported</td>\n",
       "      <td>iOS v16</td>\n",
       "    </tr>\n",
       "    <tr>\n",
       "      <th>28</th>\n",
       "      <td>Vivo V25 5G</td>\n",
       "      <td>?27,999</td>\n",
       "      <td>83.0</td>\n",
       "      <td>Dual Sim, 3G, 4G, 5G, VoLTE, Wi-Fi</td>\n",
       "      <td>Dimensity  900, Octa Core, 2?GHz Processor</td>\n",
       "      <td>8?GB RAM, 128?GB inbuilt</td>\n",
       "      <td>4500?mAh Battery with 44W Fast Charging</td>\n",
       "      <td>6.44 inches, 1080?x?2408?px, 90 Hz Display wit...</td>\n",
       "      <td>64?MP + 8?MP + 2?MP Triple Rear &amp; 50?MP Front ...</td>\n",
       "      <td>Memory Card (Hybrid), upto 1?TB</td>\n",
       "      <td>Android v12</td>\n",
       "    </tr>\n",
       "    <tr>\n",
       "      <th>29</th>\n",
       "      <td>OnePlus 11 Pro</td>\n",
       "      <td>?69,999</td>\n",
       "      <td>78.0</td>\n",
       "      <td>Dual Sim, 3G, 4G, 5G, VoLTE, Wi-Fi, NFC</td>\n",
       "      <td>Snapdragon  8 Gen2, Octa Core, 3.2?GHz Processor</td>\n",
       "      <td>8?GB RAM, 128?GB inbuilt</td>\n",
       "      <td>4500?mAh Battery with 100W Fast Charging</td>\n",
       "      <td>6.7 inches, 1440?x?3216?px, 120 Hz Display wit...</td>\n",
       "      <td>50?MP + 48?MP + 32?MP Triple Rear &amp; 16?MP Fron...</td>\n",
       "      <td>Android v13</td>\n",
       "      <td>No FM Radio</td>\n",
       "    </tr>\n",
       "    <tr>\n",
       "      <th>30</th>\n",
       "      <td>Realme 10 Pro (8GB RAM + 128GB)</td>\n",
       "      <td>?19,999</td>\n",
       "      <td>84.0</td>\n",
       "      <td>Dual Sim, 3G, 4G, 5G, VoLTE, Wi-Fi</td>\n",
       "      <td>Snapdragon 695, Octa Core, 2.2?GHz Processor</td>\n",
       "      <td>8?GB RAM, 128?GB inbuilt</td>\n",
       "      <td>5000?mAh Battery with 33W Fast Charging</td>\n",
       "      <td>6.72 inches, 1080?x?2400?px, 120 Hz Display wi...</td>\n",
       "      <td>108?MP + 2?MP Dual Rear &amp; 16?MP Front Camera</td>\n",
       "      <td>Memory Card Supported, upto 1?TB</td>\n",
       "      <td>Android v13</td>\n",
       "    </tr>\n",
       "    <tr>\n",
       "      <th>31</th>\n",
       "      <td>Poco X5 Pro</td>\n",
       "      <td>?20,999</td>\n",
       "      <td>81.0</td>\n",
       "      <td>Dual Sim, 3G, 4G, 5G, VoLTE, Wi-Fi, NFC, IR Bl...</td>\n",
       "      <td>Snapdragon 778G, Octa Core, 2.4?GHz Processor</td>\n",
       "      <td>6?GB RAM, 128?GB inbuilt</td>\n",
       "      <td>5000?mAh Battery with 67W Fast Charging</td>\n",
       "      <td>6.67 inches, 1080?x?2400?px, 120 Hz Display wi...</td>\n",
       "      <td>108?MP + 8?MP + 2?MP Triple Rear &amp; 16?MP Front...</td>\n",
       "      <td>Memory Card Not Supported</td>\n",
       "      <td>Android v13</td>\n",
       "    </tr>\n",
       "    <tr>\n",
       "      <th>32</th>\n",
       "      <td>Vivo V27</td>\n",
       "      <td>?27,990</td>\n",
       "      <td>83.0</td>\n",
       "      <td>Dual Sim, 3G, 4G, 5G, VoLTE, Wi-Fi</td>\n",
       "      <td>Dimensity  930, Octa Core, 2.2?GHz Processor</td>\n",
       "      <td>8?GB RAM, 256?GB inbuilt</td>\n",
       "      <td>4700?mAh Battery with 67W Fast Charging</td>\n",
       "      <td>6.56 inches, 1080?x?2400?px, 120 Hz Display wi...</td>\n",
       "      <td>64?MP + 13?MP + 2?MP Triple Rear &amp; 50?MP Front...</td>\n",
       "      <td>Memory Card Supported</td>\n",
       "      <td>Android v13</td>\n",
       "    </tr>\n",
       "    <tr>\n",
       "      <th>33</th>\n",
       "      <td>Apple iPhone 11</td>\n",
       "      <td>?38,999</td>\n",
       "      <td>73.0</td>\n",
       "      <td>Dual Sim, 3G, 4G, VoLTE, Wi-Fi, NFC</td>\n",
       "      <td>A13 Bionic, Hexa Core, 2.65?GHz Processor</td>\n",
       "      <td>4?GB RAM, 64?GB inbuilt</td>\n",
       "      <td>3110?mAh Battery</td>\n",
       "      <td>6.1 inches, 828?x?1792?px Display with Large N...</td>\n",
       "      <td>12?MP + 12?MP Dual Rear &amp; 12?MP Front Camera</td>\n",
       "      <td>Memory Card Not Supported</td>\n",
       "      <td>iOS v13</td>\n",
       "    </tr>\n",
       "    <tr>\n",
       "      <th>34</th>\n",
       "      <td>Samsung Galaxy M53 5G</td>\n",
       "      <td>?23,790</td>\n",
       "      <td>85.0</td>\n",
       "      <td>Dual Sim, 3G, 4G, 5G, VoLTE, Wi-Fi</td>\n",
       "      <td>Dimensity  900 5G, Octa Core, 2.4?GHz Processor</td>\n",
       "      <td>6?GB RAM, 128?GB inbuilt</td>\n",
       "      <td>5000?mAh Battery with 25W Fast Charging</td>\n",
       "      <td>6.7 inches, 1080?x?2400?px, 120 Hz Display wit...</td>\n",
       "      <td>108?MP Quad Rear &amp; 32?MP Front Camera</td>\n",
       "      <td>Memory Card (Hybrid), upto 1?TB</td>\n",
       "      <td>Android v12</td>\n",
       "    </tr>\n",
       "    <tr>\n",
       "      <th>35</th>\n",
       "      <td>Samsung Galaxy S21 FE 5G</td>\n",
       "      <td>?39,999</td>\n",
       "      <td>87.0</td>\n",
       "      <td>Dual Sim, 3G, 4G, 5G, VoLTE, Wi-Fi, NFC</td>\n",
       "      <td>Exynos  2100, Octa Core, 2.9?GHz Processor</td>\n",
       "      <td>8?GB RAM, 128?GB inbuilt</td>\n",
       "      <td>4500?mAh Battery with 25W Fast Charging</td>\n",
       "      <td>6.4 inches, 1080?x?2340?px, 120 Hz Display wit...</td>\n",
       "      <td>12?MP + 12?MP + 8?MP Triple Rear &amp; 32?MP Front...</td>\n",
       "      <td>Memory Card Not Supported</td>\n",
       "      <td>Android v11</td>\n",
       "    </tr>\n",
       "    <tr>\n",
       "      <th>36</th>\n",
       "      <td>Oppo Reno 8T</td>\n",
       "      <td>?29,990</td>\n",
       "      <td>87.0</td>\n",
       "      <td>Dual Sim, 3G, 4G, 5G, VoLTE, Wi-Fi, NFC</td>\n",
       "      <td>Snapdragon  695, Octa Core, 2.2?GHz Processor</td>\n",
       "      <td>8?GB RAM, 256?GB inbuilt</td>\n",
       "      <td>5000?mAh Battery with 66W Fast Charging</td>\n",
       "      <td>6.67 inches, 1080?x?2400?px, 120 Hz Display wi...</td>\n",
       "      <td>108?MP + 13?MP + 2?MP Triple Rear &amp; 16?MP Fron...</td>\n",
       "      <td>Memory Card Supported, upto 1?TB</td>\n",
       "      <td>Android v13</td>\n",
       "    </tr>\n",
       "    <tr>\n",
       "      <th>37</th>\n",
       "      <td>Samsung Galaxy S22 Ultra 5G</td>\n",
       "      <td>?91,999</td>\n",
       "      <td>78.0</td>\n",
       "      <td>Dual Sim, 3G, 4G, 5G, VoLTE, Wi-Fi, NFC</td>\n",
       "      <td>Snapdragon  8 Gen1, Octa Core, 3?GHz Processor</td>\n",
       "      <td>12?GB RAM, 256?GB inbuilt</td>\n",
       "      <td>5000?mAh Battery with 45W Fast Charging</td>\n",
       "      <td>6.8 inches, 1440?x?3080?px, 120 Hz Display wit...</td>\n",
       "      <td>108?MP Quad Rear &amp; 40?MP Front Camera</td>\n",
       "      <td>Android v12</td>\n",
       "      <td>Bluetooth</td>\n",
       "    </tr>\n",
       "    <tr>\n",
       "      <th>38</th>\n",
       "      <td>Xiaomi Redmi Note 12 Pro Max 5G</td>\n",
       "      <td>?32,999</td>\n",
       "      <td>83.0</td>\n",
       "      <td>Dual Sim, 3G, 4G, 5G, VoLTE, Wi-Fi, IR Blaster</td>\n",
       "      <td>Snapdragon  7 Gen1, Octa Core, 2.36?GHz Processor</td>\n",
       "      <td>6?GB RAM, 128?GB inbuilt</td>\n",
       "      <td>5200?mAh Battery with 210W Fast Charging</td>\n",
       "      <td>6.67 inches, 1080?x?2460?px, 120 Hz Display wi...</td>\n",
       "      <td>108?MP Quad Rear &amp; 32?MP Front Camera</td>\n",
       "      <td>Memory Card Supported, upto 512?GB</td>\n",
       "      <td>Android v12</td>\n",
       "    </tr>\n",
       "    <tr>\n",
       "      <th>39</th>\n",
       "      <td>OPPO Reno 9 5G</td>\n",
       "      <td>?28,499</td>\n",
       "      <td>83.0</td>\n",
       "      <td>Dual Sim, 3G, 4G, 5G, VoLTE, Wi-Fi, NFC</td>\n",
       "      <td>Snapdragon 778G, Octa Core, 2.4?GHz Processor</td>\n",
       "      <td>8?GB RAM, 256?GB inbuilt</td>\n",
       "      <td>4500?mAh Battery with 67W Fast Charging</td>\n",
       "      <td>6.7 inches, 1080?x?2412?px, 120 Hz Display wit...</td>\n",
       "      <td>64?MP + 2?MP Dual Rear &amp; 32?MP Front Camera</td>\n",
       "      <td>Android v13</td>\n",
       "      <td>No FM Radio</td>\n",
       "    </tr>\n",
       "    <tr>\n",
       "      <th>40</th>\n",
       "      <td>OnePlus Nord CE 3 5G</td>\n",
       "      <td>?21,999</td>\n",
       "      <td>83.0</td>\n",
       "      <td>Dual Sim, 3G, 4G, 5G, VoLTE, Wi-Fi, NFC</td>\n",
       "      <td>Snapdragon  695, Octa Core, 2.2?GHz Processor</td>\n",
       "      <td>6?GB RAM, 128?GB inbuilt</td>\n",
       "      <td>5000?mAh Battery with 67W Fast Charging</td>\n",
       "      <td>6.7 inches, 1080?x?2412?px, 120 Hz Display wit...</td>\n",
       "      <td>108?MP + 2?MP + 2?MP Triple Rear &amp; 16?MP Front...</td>\n",
       "      <td>Memory Card Supported, upto 1?TB</td>\n",
       "      <td>Android v12</td>\n",
       "    </tr>\n",
       "    <tr>\n",
       "      <th>41</th>\n",
       "      <td>Xiaomi Redmi Note 11 Pro Plus 5G</td>\n",
       "      <td>?19,999</td>\n",
       "      <td>83.0</td>\n",
       "      <td>Dual Sim, 3G, 4G, 5G, VoLTE, Wi-Fi, IR Blaster</td>\n",
       "      <td>Snapdragon  695, Octa Core, 2.2?GHz Processor</td>\n",
       "      <td>6?GB RAM, 128?GB inbuilt</td>\n",
       "      <td>5000?mAh Battery with 67W Fast Charging</td>\n",
       "      <td>6.67 inches, 1080?x?2400?px, 120 Hz Display wi...</td>\n",
       "      <td>108?MP + 8?MP + 2?MP Triple Rear &amp; 16?MP Front...</td>\n",
       "      <td>Memory Card (Hybrid), upto 1?TB</td>\n",
       "      <td>Android v11</td>\n",
       "    </tr>\n",
       "    <tr>\n",
       "      <th>42</th>\n",
       "      <td>Motorola Edge 20 Fusion 5G</td>\n",
       "      <td>?18,999</td>\n",
       "      <td>87.0</td>\n",
       "      <td>Dual Sim, 3G, 4G, 5G, VoLTE, Wi-Fi, NFC</td>\n",
       "      <td>Dimensity 800U, Octa Core, 2.4?GHz Processor</td>\n",
       "      <td>6?GB RAM, 128?GB inbuilt</td>\n",
       "      <td>5000?mAh Battery with 30W Fast Charging</td>\n",
       "      <td>6.67 inches, 1080?x?2400?px, 90 Hz Display wit...</td>\n",
       "      <td>108?MP + 8?MP + 2?MP Triple Rear &amp; 32?MP Front...</td>\n",
       "      <td>Memory Card (Hybrid), upto 1?TB</td>\n",
       "      <td>Android v11</td>\n",
       "    </tr>\n",
       "    <tr>\n",
       "      <th>43</th>\n",
       "      <td>Realme 10 Pro Plus (8GB RAM + 256GB)</td>\n",
       "      <td>?27,999</td>\n",
       "      <td>85.0</td>\n",
       "      <td>Dual Sim, 3G, 4G, 5G, VoLTE, Wi-Fi</td>\n",
       "      <td>Dimensity 1080, Octa Core, 2.6?GHz Processor</td>\n",
       "      <td>8?GB RAM, 256?GB inbuilt</td>\n",
       "      <td>5000?mAh Battery with 67W Fast Charging</td>\n",
       "      <td>6.7 inches, 1080?x?2412?px, 120 Hz Display wit...</td>\n",
       "      <td>108?MP + 8?MP + 2?MP Triple Rear &amp; 16?MP Front...</td>\n",
       "      <td>Memory Card Not Supported</td>\n",
       "      <td>Android v13</td>\n",
       "    </tr>\n",
       "    <tr>\n",
       "      <th>44</th>\n",
       "      <td>Vivo Y35</td>\n",
       "      <td>?18,499</td>\n",
       "      <td>80.0</td>\n",
       "      <td>Dual Sim, 3G, 4G, VoLTE, Wi-Fi</td>\n",
       "      <td>Snapdragon 680, Octa Core, 2.4?GHz Processor</td>\n",
       "      <td>8?GB RAM, 128?GB inbuilt</td>\n",
       "      <td>5000?mAh Battery with 44W Fast Charging</td>\n",
       "      <td>6.58 inches, 1080?x?2408?px, 90 Hz Display wit...</td>\n",
       "      <td>50?MP + 2?MP + 2?MP Triple Rear &amp; 16?MP Front ...</td>\n",
       "      <td>Memory Card Supported, upto 1?TB</td>\n",
       "      <td>Android v12</td>\n",
       "    </tr>\n",
       "    <tr>\n",
       "      <th>45</th>\n",
       "      <td>Samsung Galaxy M33 5G</td>\n",
       "      <td>?17,478</td>\n",
       "      <td>81.0</td>\n",
       "      <td>Dual Sim, 3G, 4G, 5G, VoLTE, Wi-Fi, NFC</td>\n",
       "      <td>Exynos  1280, Octa Core, 2.4?GHz Processor</td>\n",
       "      <td>6?GB RAM, 128?GB inbuilt</td>\n",
       "      <td>6000?mAh Battery with 25W Fast Charging</td>\n",
       "      <td>6.6 inches, 1080?x?2400?px, 120 Hz Display wit...</td>\n",
       "      <td>50?MP Quad Rear &amp; 8?MP Front Camera</td>\n",
       "      <td>Memory Card Supported, upto 1?TB</td>\n",
       "      <td>Android v12</td>\n",
       "    </tr>\n",
       "    <tr>\n",
       "      <th>46</th>\n",
       "      <td>Xiaomi Redmi Note 11</td>\n",
       "      <td>?11,936</td>\n",
       "      <td>76.0</td>\n",
       "      <td>Dual Sim, 3G, 4G, VoLTE, Wi-Fi, IR Blaster</td>\n",
       "      <td>Snapdragon  680, Octa Core, 2.4?GHz Processor</td>\n",
       "      <td>4?GB RAM, 64?GB inbuilt</td>\n",
       "      <td>5000?mAh Battery with 33W Fast Charging</td>\n",
       "      <td>6.43 inches, 1080?x?2400?px, 90 Hz Display wit...</td>\n",
       "      <td>50?MP Quad Rear &amp; 13?MP Front Camera</td>\n",
       "      <td>Memory Card Supported, upto 512?GB</td>\n",
       "      <td>Android v11</td>\n",
       "    </tr>\n",
       "    <tr>\n",
       "      <th>47</th>\n",
       "      <td>Realme C33</td>\n",
       "      <td>?8,950</td>\n",
       "      <td>64.0</td>\n",
       "      <td>Dual Sim, 3G, 4G, VoLTE, Wi-Fi</td>\n",
       "      <td>Unisoc T612, Octa Core, 1.8?GHz Processor</td>\n",
       "      <td>3?GB RAM, 32?GB inbuilt</td>\n",
       "      <td>5000?mAh Battery</td>\n",
       "      <td>6.5 inches, 720?x?1600?px Display with Water D...</td>\n",
       "      <td>50?MP + 0.3?MP Dual Rear &amp; 5?MP Front Camera</td>\n",
       "      <td>Memory Card Supported, upto 1?TB</td>\n",
       "      <td>Android v12</td>\n",
       "    </tr>\n",
       "    <tr>\n",
       "      <th>48</th>\n",
       "      <td>Vivo Y16 (4GB RAM + 64GB)</td>\n",
       "      <td>?12,489</td>\n",
       "      <td>68.0</td>\n",
       "      <td>Dual Sim, 3G, 4G, VoLTE, Wi-Fi</td>\n",
       "      <td>Helio P35, Octa Core, 2.3?GHz Processor</td>\n",
       "      <td>4?GB RAM, 64?GB inbuilt</td>\n",
       "      <td>5000?mAh Battery with 10W Fast Charging</td>\n",
       "      <td>6.51 inches, 720?x?1600?px Display with Water ...</td>\n",
       "      <td>13?MP + 2?MP Dual Rear &amp; 5?MP Front Camera</td>\n",
       "      <td>Memory Card Supported</td>\n",
       "      <td>Android v12</td>\n",
       "    </tr>\n",
       "    <tr>\n",
       "      <th>49</th>\n",
       "      <td>Samsung Galaxy A74 5G</td>\n",
       "      <td>?42,999</td>\n",
       "      <td>78.0</td>\n",
       "      <td>Dual Sim, 3G, 4G, 5G, VoLTE, Wi-Fi, NFC</td>\n",
       "      <td>Snapdragon 7 Gen1, Octa Core, 2.36?GHz Processor</td>\n",
       "      <td>8?GB RAM, 128?GB inbuilt</td>\n",
       "      <td>5000?mAh Battery with 33W Fast Charging</td>\n",
       "      <td>6.7 inches, 1080?x?2412?px, 120 Hz Display wit...</td>\n",
       "      <td>108?MP Quad Rear &amp; 32?MP Front Camera</td>\n",
       "      <td>Memory Card (Hybrid), upto 1?TB</td>\n",
       "      <td>Android v12</td>\n",
       "    </tr>\n",
       "    <tr>\n",
       "      <th>50</th>\n",
       "      <td>Samsung Galaxy A14 5G (6GB RAM + 128GB)</td>\n",
       "      <td>?18,999</td>\n",
       "      <td>79.0</td>\n",
       "      <td>Dual Sim, 3G, 4G, 5G, VoLTE, Wi-Fi</td>\n",
       "      <td>Exynos 1330, Octa Core, 2.4?GHz Processor</td>\n",
       "      <td>6?GB RAM, 128?GB inbuilt</td>\n",
       "      <td>5000?mAh Battery with 15W Fast Charging</td>\n",
       "      <td>6.6 inches, 1080?x?2408?px, 90 Hz Display with...</td>\n",
       "      <td>50?MP + 2?MP + 2?MP Triple Rear &amp; 13?MP Front ...</td>\n",
       "      <td>Memory Card Supported, upto 1?TB</td>\n",
       "      <td>Android v13</td>\n",
       "    </tr>\n",
       "    <tr>\n",
       "      <th>51</th>\n",
       "      <td>iQOO Neo 7 5G</td>\n",
       "      <td>?29,999</td>\n",
       "      <td>82.0</td>\n",
       "      <td>Dual Sim, 3G, 4G, 5G, VoLTE, Wi-Fi, NFC, IR Bl...</td>\n",
       "      <td>Dimensity 8200, Octa Core, 3.1?GHz Processor</td>\n",
       "      <td>8?GB RAM, 128?GB inbuilt</td>\n",
       "      <td>5000?mAh Battery with 120W Fast Charging</td>\n",
       "      <td>6.78 inches, 1080?x?2400?px, 120 Hz Display wi...</td>\n",
       "      <td>64?MP + 2?MP + 2?MP Triple Rear &amp; 16?MP Front ...</td>\n",
       "      <td>Android v13</td>\n",
       "      <td>No FM Radio</td>\n",
       "    </tr>\n",
       "    <tr>\n",
       "      <th>52</th>\n",
       "      <td>Jio JioPhone 5G</td>\n",
       "      <td>?11,990</td>\n",
       "      <td>64.0</td>\n",
       "      <td>Dual Sim, 3G, 4G, 5G, VoLTE, Wi-Fi</td>\n",
       "      <td>Snapdragon 480+, Octa Core, 2.2?GHz Processor</td>\n",
       "      <td>4?GB RAM, 32?GB inbuilt</td>\n",
       "      <td>5000?mAh Battery with 18W Fast Charging</td>\n",
       "      <td>6.5 inches, 720?x?1600?px, 90 Hz Display</td>\n",
       "      <td>13?MP Rear &amp; 8?MP Front Camera</td>\n",
       "      <td>Memory Card Supported, upto 512?GB</td>\n",
       "      <td>Android v12</td>\n",
       "    </tr>\n",
       "    <tr>\n",
       "      <th>53</th>\n",
       "      <td>Motorola Moto G82 5G</td>\n",
       "      <td>?18,999</td>\n",
       "      <td>83.0</td>\n",
       "      <td>Dual Sim, 3G, 4G, 5G, VoLTE, Wi-Fi, NFC</td>\n",
       "      <td>Snapdragon 695, Octa Core, 2.2?GHz Processor</td>\n",
       "      <td>6?GB RAM, 128?GB inbuilt</td>\n",
       "      <td>5000?mAh Battery with 30W Fast Charging</td>\n",
       "      <td>6.6 inches, 1080?x?2400?px, 120 Hz Display wit...</td>\n",
       "      <td>50?MP + 8?MP + 2?MP Triple Rear &amp; 16?MP Front ...</td>\n",
       "      <td>Memory Card Supported, upto 1?TB</td>\n",
       "      <td>Android v12</td>\n",
       "    </tr>\n",
       "    <tr>\n",
       "      <th>54</th>\n",
       "      <td>Realme 10</td>\n",
       "      <td>?13,999</td>\n",
       "      <td>74.0</td>\n",
       "      <td>Dual Sim, 3G, 4G, VoLTE, Wi-Fi</td>\n",
       "      <td>Helio G99, Octa Core, 2.2?GHz Processor</td>\n",
       "      <td>4?GB RAM, 64?GB inbuilt</td>\n",
       "      <td>5000?mAh Battery with 33W Fast Charging</td>\n",
       "      <td>6.4 inches, 1080?x?2400?px, 90 Hz Display with...</td>\n",
       "      <td>50?MP + 2?MP Dual Rear &amp; 16?MP Front Camera</td>\n",
       "      <td>Memory Card Supported, upto 1?TB</td>\n",
       "      <td>Android v12</td>\n",
       "    </tr>\n",
       "    <tr>\n",
       "      <th>55</th>\n",
       "      <td>Realme 9i 5G</td>\n",
       "      <td>?14,965</td>\n",
       "      <td>75.0</td>\n",
       "      <td>Dual Sim, 3G, 4G, 5G, VoLTE, Wi-Fi</td>\n",
       "      <td>Dimensity 810 5G, Octa Core, 2.4?GHz Processor</td>\n",
       "      <td>4?GB RAM, 64?GB inbuilt</td>\n",
       "      <td>5000?mAh Battery with 18W Fast Charging</td>\n",
       "      <td>6.6 inches, 1080?x?2408?px, 90 Hz Display with...</td>\n",
       "      <td>50?MP + 2?MP + 2?MP Triple Rear &amp; 8?MP Front C...</td>\n",
       "      <td>Memory Card Supported, upto 1?TB</td>\n",
       "      <td>Android v12</td>\n",
       "    </tr>\n",
       "    <tr>\n",
       "      <th>56</th>\n",
       "      <td>Apple iPhone 14 Plus</td>\n",
       "      <td>?74,999</td>\n",
       "      <td>82.0</td>\n",
       "      <td>Dual Sim, 3G, 4G, 5G, VoLTE, Wi-Fi, NFC</td>\n",
       "      <td>Bionic A15, Hexa Core, 3.22?GHz Processor</td>\n",
       "      <td>6?GB RAM, 128?GB inbuilt</td>\n",
       "      <td>4325?mAh Battery with Fast Charging</td>\n",
       "      <td>6.7 inches, 1284?x?2778?px Display with Small ...</td>\n",
       "      <td>12?MP + 12?MP Dual Rear &amp; 12?MP Front Camera</td>\n",
       "      <td>Memory Card Not Supported</td>\n",
       "      <td>iOS v16</td>\n",
       "    </tr>\n",
       "    <tr>\n",
       "      <th>57</th>\n",
       "      <td>Xiaomi Redmi Note 10S</td>\n",
       "      <td>?10,999</td>\n",
       "      <td>78.0</td>\n",
       "      <td>Dual Sim, 3G, 4G, VoLTE, Wi-Fi, IR Blaster</td>\n",
       "      <td>Helio G95, Octa Core, 2.05?GHz Processor</td>\n",
       "      <td>6?GB RAM, 64?GB inbuilt</td>\n",
       "      <td>5000?mAh Battery with 33W Fast Charging</td>\n",
       "      <td>6.43 inches, 1080?x?2400?px Display with Punch...</td>\n",
       "      <td>64?MP Quad Rear &amp; 13?MP Front Camera</td>\n",
       "      <td>Memory Card Supported, upto 512?GB</td>\n",
       "      <td>Android v11</td>\n",
       "    </tr>\n",
       "    <tr>\n",
       "      <th>58</th>\n",
       "      <td>Samsung Galaxy S23 Plus</td>\n",
       "      <td>?84,990</td>\n",
       "      <td>89.0</td>\n",
       "      <td>Dual Sim, 3G, 4G, 5G, VoLTE, Vo5G, Wi-Fi, NFC</td>\n",
       "      <td>Snapdragon 8 Gen2, Octa Core, 3.2?GHz Processor</td>\n",
       "      <td>8?GB RAM, 256?GB inbuilt</td>\n",
       "      <td>4700?mAh Battery with 45W Fast Charging</td>\n",
       "      <td>6.6 inches, 1080?x?2340?px, 120 Hz Display wit...</td>\n",
       "      <td>50?MP + 12?MP + 10?MP Triple Rear &amp; 12?MP Fron...</td>\n",
       "      <td>Android v13</td>\n",
       "      <td>No FM Radio</td>\n",
       "    </tr>\n",
       "    <tr>\n",
       "      <th>59</th>\n",
       "      <td>Motorola Moto G32</td>\n",
       "      <td>?10,499</td>\n",
       "      <td>75.0</td>\n",
       "      <td>Dual Sim, 3G, 4G, VoLTE, Wi-Fi</td>\n",
       "      <td>Snapdragon 680, Octa Core, 2.4?GHz Processor</td>\n",
       "      <td>4?GB RAM, 64?GB inbuilt</td>\n",
       "      <td>5000?mAh Battery with 33W Fast Charging</td>\n",
       "      <td>6.55 inches, 1080?x?2400?px, 90 Hz Display wit...</td>\n",
       "      <td>50?MP + 8?MP + 2?MP Triple Rear &amp; 16?MP Front ...</td>\n",
       "      <td>Memory Card (Hybrid), upto 1?TB</td>\n",
       "      <td>Android v12</td>\n",
       "    </tr>\n",
       "  </tbody>\n",
       "</table>\n",
       "</div>"
      ],
      "text/plain": [
       "                                          model      price  rating  \\\n",
       "0                                 OnePlus 11 5G    ?54,999    89.0   \n",
       "1                     OnePlus Nord CE 2 Lite 5G    ?19,989    81.0   \n",
       "2                         Samsung Galaxy A14 5G    ?16,499    75.0   \n",
       "3                          Motorola Moto G62 5G    ?14,999    81.0   \n",
       "4                            Realme 10 Pro Plus    ?24,999    82.0   \n",
       "5       Samsung Galaxy F23 5G (6GB RAM + 128GB)    ?16,999    80.0   \n",
       "6                               Apple iPhone 14    ?65,999    81.0   \n",
       "7                 Xiaomi Redmi Note 12 Pro Plus    ?29,999    86.0   \n",
       "8                               Nothing Phone 1    ?26,749    85.0   \n",
       "9                            OnePlus Nord 2T 5G    ?28,999    84.0   \n",
       "10                                Realme 10 Pro    ?18,999    82.0   \n",
       "11                                     Oppo A78    ?18,999    79.0   \n",
       "12                  Xiaomi Redmi Note 12 Pro 5G    ?24,762    79.0   \n",
       "13                 Vivo T1 5G (6GB RAM + 128GB)    ?16,990    80.0   \n",
       "14                  Samsung Galaxy S23 Ultra 5G  ?1,14,990    78.0   \n",
       "15                              Apple iPhone 13    ?62,999    79.0   \n",
       "16                                     Vivo Y16     ?9,999    65.0   \n",
       "17                         OPPO Reno 9 Pro Plus    ?45,999    86.0   \n",
       "18                               OnePlus 10R 5G    ?32,999    86.0   \n",
       "19                                     Vivo Y22    ?14,499    72.0   \n",
       "20                                  OnePlus 11R    ?39,999    85.0   \n",
       "21                              Vivo V25 Pro 5G    ?35,999    85.0   \n",
       "22                               Poco X4 Pro 5G    ?14,999    80.0   \n",
       "23                         Xiaomi Redmi Note 12    ?17,859    76.0   \n",
       "24                                 Vivo V26 Pro    ?42,990    87.0   \n",
       "25                     Samsung Galaxy S20 FE 5G    ?31,239    88.0   \n",
       "26  OnePlus Nord CE 2 Lite 5G (8GB RAM + 128GB)    ?21,995    84.0   \n",
       "27                      Apple iPhone 14 Pro Max  ?1,29,990    76.0   \n",
       "28                                  Vivo V25 5G    ?27,999    83.0   \n",
       "29                               OnePlus 11 Pro    ?69,999    78.0   \n",
       "30              Realme 10 Pro (8GB RAM + 128GB)    ?19,999    84.0   \n",
       "31                                  Poco X5 Pro    ?20,999    81.0   \n",
       "32                                     Vivo V27    ?27,990    83.0   \n",
       "33                              Apple iPhone 11    ?38,999    73.0   \n",
       "34                        Samsung Galaxy M53 5G    ?23,790    85.0   \n",
       "35                     Samsung Galaxy S21 FE 5G    ?39,999    87.0   \n",
       "36                                 Oppo Reno 8T    ?29,990    87.0   \n",
       "37                  Samsung Galaxy S22 Ultra 5G    ?91,999    78.0   \n",
       "38              Xiaomi Redmi Note 12 Pro Max 5G    ?32,999    83.0   \n",
       "39                               OPPO Reno 9 5G    ?28,499    83.0   \n",
       "40                         OnePlus Nord CE 3 5G    ?21,999    83.0   \n",
       "41             Xiaomi Redmi Note 11 Pro Plus 5G    ?19,999    83.0   \n",
       "42                   Motorola Edge 20 Fusion 5G    ?18,999    87.0   \n",
       "43         Realme 10 Pro Plus (8GB RAM + 256GB)    ?27,999    85.0   \n",
       "44                                     Vivo Y35    ?18,499    80.0   \n",
       "45                        Samsung Galaxy M33 5G    ?17,478    81.0   \n",
       "46                         Xiaomi Redmi Note 11    ?11,936    76.0   \n",
       "47                                   Realme C33     ?8,950    64.0   \n",
       "48                    Vivo Y16 (4GB RAM + 64GB)    ?12,489    68.0   \n",
       "49                        Samsung Galaxy A74 5G    ?42,999    78.0   \n",
       "50      Samsung Galaxy A14 5G (6GB RAM + 128GB)    ?18,999    79.0   \n",
       "51                                iQOO Neo 7 5G    ?29,999    82.0   \n",
       "52                              Jio JioPhone 5G    ?11,990    64.0   \n",
       "53                         Motorola Moto G82 5G    ?18,999    83.0   \n",
       "54                                    Realme 10    ?13,999    74.0   \n",
       "55                                 Realme 9i 5G    ?14,965    75.0   \n",
       "56                         Apple iPhone 14 Plus    ?74,999    82.0   \n",
       "57                        Xiaomi Redmi Note 10S    ?10,999    78.0   \n",
       "58                      Samsung Galaxy S23 Plus    ?84,990    89.0   \n",
       "59                            Motorola Moto G32    ?10,499    75.0   \n",
       "\n",
       "                                                  sim  \\\n",
       "0             Dual Sim, 3G, 4G, 5G, VoLTE, Wi-Fi, NFC   \n",
       "1                  Dual Sim, 3G, 4G, 5G, VoLTE, Wi-Fi   \n",
       "2                  Dual Sim, 3G, 4G, 5G, VoLTE, Wi-Fi   \n",
       "3                  Dual Sim, 3G, 4G, 5G, VoLTE, Wi-Fi   \n",
       "4                  Dual Sim, 3G, 4G, 5G, VoLTE, Wi-Fi   \n",
       "5             Dual Sim, 3G, 4G, 5G, VoLTE, Wi-Fi, NFC   \n",
       "6             Dual Sim, 3G, 4G, 5G, VoLTE, Wi-Fi, NFC   \n",
       "7      Dual Sim, 3G, 4G, 5G, VoLTE, Wi-Fi, IR Blaster   \n",
       "8             Dual Sim, 3G, 4G, 5G, VoLTE, Wi-Fi, NFC   \n",
       "9             Dual Sim, 3G, 4G, 5G, VoLTE, Wi-Fi, NFC   \n",
       "10                 Dual Sim, 3G, 4G, 5G, VoLTE, Wi-Fi   \n",
       "11            Dual Sim, 3G, 4G, 5G, VoLTE, Wi-Fi, NFC   \n",
       "12     Dual Sim, 3G, 4G, 5G, VoLTE, Wi-Fi, IR Blaster   \n",
       "13                 Dual Sim, 3G, 4G, 5G, VoLTE, Wi-Fi   \n",
       "14      Dual Sim, 3G, 4G, 5G, VoLTE, Vo5G, Wi-Fi, NFC   \n",
       "15            Dual Sim, 3G, 4G, 5G, VoLTE, Wi-Fi, NFC   \n",
       "16                     Dual Sim, 3G, 4G, VoLTE, Wi-Fi   \n",
       "17            Dual Sim, 3G, 4G, 5G, VoLTE, Wi-Fi, NFC   \n",
       "18            Dual Sim, 3G, 4G, 5G, VoLTE, Wi-Fi, NFC   \n",
       "19                     Dual Sim, 3G, 4G, VoLTE, Wi-Fi   \n",
       "20            Dual Sim, 3G, 4G, 5G, VoLTE, Wi-Fi, NFC   \n",
       "21                 Dual Sim, 3G, 4G, 5G, VoLTE, Wi-Fi   \n",
       "22     Dual Sim, 3G, 4G, 5G, VoLTE, Wi-Fi, IR Blaster   \n",
       "23     Dual Sim, 3G, 4G, 5G, VoLTE, Wi-Fi, IR Blaster   \n",
       "24            Dual Sim, 3G, 4G, 5G, VoLTE, Wi-Fi, NFC   \n",
       "25            Dual Sim, 3G, 4G, 5G, VoLTE, Wi-Fi, NFC   \n",
       "26                 Dual Sim, 3G, 4G, 5G, VoLTE, Wi-Fi   \n",
       "27            Dual Sim, 3G, 4G, 5G, VoLTE, Wi-Fi, NFC   \n",
       "28                 Dual Sim, 3G, 4G, 5G, VoLTE, Wi-Fi   \n",
       "29            Dual Sim, 3G, 4G, 5G, VoLTE, Wi-Fi, NFC   \n",
       "30                 Dual Sim, 3G, 4G, 5G, VoLTE, Wi-Fi   \n",
       "31  Dual Sim, 3G, 4G, 5G, VoLTE, Wi-Fi, NFC, IR Bl...   \n",
       "32                 Dual Sim, 3G, 4G, 5G, VoLTE, Wi-Fi   \n",
       "33                Dual Sim, 3G, 4G, VoLTE, Wi-Fi, NFC   \n",
       "34                 Dual Sim, 3G, 4G, 5G, VoLTE, Wi-Fi   \n",
       "35            Dual Sim, 3G, 4G, 5G, VoLTE, Wi-Fi, NFC   \n",
       "36            Dual Sim, 3G, 4G, 5G, VoLTE, Wi-Fi, NFC   \n",
       "37            Dual Sim, 3G, 4G, 5G, VoLTE, Wi-Fi, NFC   \n",
       "38     Dual Sim, 3G, 4G, 5G, VoLTE, Wi-Fi, IR Blaster   \n",
       "39            Dual Sim, 3G, 4G, 5G, VoLTE, Wi-Fi, NFC   \n",
       "40            Dual Sim, 3G, 4G, 5G, VoLTE, Wi-Fi, NFC   \n",
       "41     Dual Sim, 3G, 4G, 5G, VoLTE, Wi-Fi, IR Blaster   \n",
       "42            Dual Sim, 3G, 4G, 5G, VoLTE, Wi-Fi, NFC   \n",
       "43                 Dual Sim, 3G, 4G, 5G, VoLTE, Wi-Fi   \n",
       "44                     Dual Sim, 3G, 4G, VoLTE, Wi-Fi   \n",
       "45            Dual Sim, 3G, 4G, 5G, VoLTE, Wi-Fi, NFC   \n",
       "46         Dual Sim, 3G, 4G, VoLTE, Wi-Fi, IR Blaster   \n",
       "47                     Dual Sim, 3G, 4G, VoLTE, Wi-Fi   \n",
       "48                     Dual Sim, 3G, 4G, VoLTE, Wi-Fi   \n",
       "49            Dual Sim, 3G, 4G, 5G, VoLTE, Wi-Fi, NFC   \n",
       "50                 Dual Sim, 3G, 4G, 5G, VoLTE, Wi-Fi   \n",
       "51  Dual Sim, 3G, 4G, 5G, VoLTE, Wi-Fi, NFC, IR Bl...   \n",
       "52                 Dual Sim, 3G, 4G, 5G, VoLTE, Wi-Fi   \n",
       "53            Dual Sim, 3G, 4G, 5G, VoLTE, Wi-Fi, NFC   \n",
       "54                     Dual Sim, 3G, 4G, VoLTE, Wi-Fi   \n",
       "55                 Dual Sim, 3G, 4G, 5G, VoLTE, Wi-Fi   \n",
       "56            Dual Sim, 3G, 4G, 5G, VoLTE, Wi-Fi, NFC   \n",
       "57         Dual Sim, 3G, 4G, VoLTE, Wi-Fi, IR Blaster   \n",
       "58      Dual Sim, 3G, 4G, 5G, VoLTE, Vo5G, Wi-Fi, NFC   \n",
       "59                     Dual Sim, 3G, 4G, VoLTE, Wi-Fi   \n",
       "\n",
       "                                            processor  \\\n",
       "0     Snapdragon 8 Gen2, Octa Core, 3.2?GHz Processor   \n",
       "1        Snapdragon 695, Octa Core, 2.2?GHz Processor   \n",
       "2           Exynos 1330, Octa Core, 2.4?GHz Processor   \n",
       "3       Snapdragon  695, Octa Core, 2.2?GHz Processor   \n",
       "4        Dimensity 1080, Octa Core, 2.6?GHz Processor   \n",
       "5      Snapdragon  750G, Octa Core, 2.2?GHz Processor   \n",
       "6           Bionic A15, Hexa Core, 3.22?GHz Processor   \n",
       "7        Dimensity 1080, Octa Core, 2.6?GHz Processor   \n",
       "8   Snapdragon 778G Plus, Octa Core, 2.5?GHz Proce...   \n",
       "9         Dimensity  1300, Octa Core, 3?GHz Processor   \n",
       "10       Snapdragon 695, Octa Core, 2.2?GHz Processor   \n",
       "11     Dimensity 700 5G, Octa Core, 2.2?GHz Processor   \n",
       "12       Dimensity 1080, Octa Core, 2.6?GHz Processor   \n",
       "13      Snapdragon  695, Octa Core, 2.2?GHz Processor   \n",
       "14    Snapdragon 8 Gen2, Octa Core, 3.2?GHz Processor   \n",
       "15          Bionic A15, Hexa Core, 3.22?GHz Processor   \n",
       "16            Helio P35, Octa Core, 2.3?GHz Processor   \n",
       "17   Snapdragon 8+ Gen1, Octa Core, 3.2?GHz Processor   \n",
       "18  Dimensity 8100 Max, Octa Core, 2.85?GHz Processor   \n",
       "19              Helio G70, Octa Core, 2?GHz Processor   \n",
       "20  Snapdragon  8+ Gen1, Octa Core, 3.2?GHz Processor   \n",
       "21         Dimensity 1300, Octa Core, 3?GHz Processor   \n",
       "22      Snapdragon 695 , Octa Core, 2.2?GHz Processor   \n",
       "23     Snapdragon 4 Gen 1, Octa Core, 2?GHz Processor   \n",
       "24  Dimensity 9000 Plus, Octa Core, 3.2?GHz Processor   \n",
       "25      Snapdragon 865, Octa Core, 2.84?GHz Processor   \n",
       "26       Snapdragon 695, Octa Core, 2.2?GHz Processor   \n",
       "27                   Bionic  A16, Hexa Core Processor   \n",
       "28         Dimensity  900, Octa Core, 2?GHz Processor   \n",
       "29   Snapdragon  8 Gen2, Octa Core, 3.2?GHz Processor   \n",
       "30       Snapdragon 695, Octa Core, 2.2?GHz Processor   \n",
       "31      Snapdragon 778G, Octa Core, 2.4?GHz Processor   \n",
       "32       Dimensity  930, Octa Core, 2.2?GHz Processor   \n",
       "33          A13 Bionic, Hexa Core, 2.65?GHz Processor   \n",
       "34    Dimensity  900 5G, Octa Core, 2.4?GHz Processor   \n",
       "35         Exynos  2100, Octa Core, 2.9?GHz Processor   \n",
       "36      Snapdragon  695, Octa Core, 2.2?GHz Processor   \n",
       "37     Snapdragon  8 Gen1, Octa Core, 3?GHz Processor   \n",
       "38  Snapdragon  7 Gen1, Octa Core, 2.36?GHz Processor   \n",
       "39      Snapdragon 778G, Octa Core, 2.4?GHz Processor   \n",
       "40      Snapdragon  695, Octa Core, 2.2?GHz Processor   \n",
       "41      Snapdragon  695, Octa Core, 2.2?GHz Processor   \n",
       "42       Dimensity 800U, Octa Core, 2.4?GHz Processor   \n",
       "43       Dimensity 1080, Octa Core, 2.6?GHz Processor   \n",
       "44       Snapdragon 680, Octa Core, 2.4?GHz Processor   \n",
       "45         Exynos  1280, Octa Core, 2.4?GHz Processor   \n",
       "46      Snapdragon  680, Octa Core, 2.4?GHz Processor   \n",
       "47          Unisoc T612, Octa Core, 1.8?GHz Processor   \n",
       "48            Helio P35, Octa Core, 2.3?GHz Processor   \n",
       "49   Snapdragon 7 Gen1, Octa Core, 2.36?GHz Processor   \n",
       "50          Exynos 1330, Octa Core, 2.4?GHz Processor   \n",
       "51       Dimensity 8200, Octa Core, 3.1?GHz Processor   \n",
       "52      Snapdragon 480+, Octa Core, 2.2?GHz Processor   \n",
       "53       Snapdragon 695, Octa Core, 2.2?GHz Processor   \n",
       "54            Helio G99, Octa Core, 2.2?GHz Processor   \n",
       "55     Dimensity 810 5G, Octa Core, 2.4?GHz Processor   \n",
       "56          Bionic A15, Hexa Core, 3.22?GHz Processor   \n",
       "57           Helio G95, Octa Core, 2.05?GHz Processor   \n",
       "58    Snapdragon 8 Gen2, Octa Core, 3.2?GHz Processor   \n",
       "59       Snapdragon 680, Octa Core, 2.4?GHz Processor   \n",
       "\n",
       "                          ram                                   battery  \\\n",
       "0   12?GB RAM, 256?GB inbuilt  5000?mAh Battery with 100W Fast Charging   \n",
       "1    6?GB RAM, 128?GB inbuilt   5000?mAh Battery with 33W Fast Charging   \n",
       "2     4?GB RAM, 64?GB inbuilt   5000?mAh Battery with 15W Fast Charging   \n",
       "3    6?GB RAM, 128?GB inbuilt       5000?mAh Battery with Fast Charging   \n",
       "4    6?GB RAM, 128?GB inbuilt   5000?mAh Battery with 67W Fast Charging   \n",
       "5    6?GB RAM, 128?GB inbuilt   5000?mAh Battery with 25W Fast Charging   \n",
       "6    6?GB RAM, 128?GB inbuilt       3279?mAh Battery with Fast Charging   \n",
       "7    8?GB RAM, 256?GB inbuilt  4980?mAh Battery with 120W Fast Charging   \n",
       "8    8?GB RAM, 128?GB inbuilt   4500?mAh Battery with 33W Fast Charging   \n",
       "9    8?GB RAM, 128?GB inbuilt   4500?mAh Battery with 80W Fast Charging   \n",
       "10   6?GB RAM, 128?GB inbuilt   5000?mAh Battery with 33W Fast Charging   \n",
       "11   8?GB RAM, 128?GB inbuilt   5000?mAh Battery with 33W Fast Charging   \n",
       "12   6?GB RAM, 128?GB inbuilt   5000?mAh Battery with 67W Fast Charging   \n",
       "13   6?GB RAM, 128?GB inbuilt   5000?mAh Battery with 18W Fast Charging   \n",
       "14   8?GB RAM, 256?GB inbuilt   5000?mAh Battery with 45W Fast Charging   \n",
       "15   4?GB RAM, 128?GB inbuilt       3240?mAh Battery with Fast Charging   \n",
       "16    3?GB RAM, 32?GB inbuilt   5000?mAh Battery with 10W Fast Charging   \n",
       "17  16?GB RAM, 256?GB inbuilt   4700?mAh Battery with 80W Fast Charging   \n",
       "18   8?GB RAM, 128?GB inbuilt   5000?mAh Battery with 80W Fast Charging   \n",
       "19    4?GB RAM, 64?GB inbuilt   5000?mAh Battery with 18W Fast Charging   \n",
       "20   8?GB RAM, 128?GB inbuilt  5000?mAh Battery with 100W Fast Charging   \n",
       "21   8?GB RAM, 128?GB inbuilt   4830?mAh Battery with 66W Fast Charging   \n",
       "22    6?GB RAM, 64?GB inbuilt   5000?mAh Battery with 67W Fast Charging   \n",
       "23   4?GB RAM, 128?GB inbuilt   5000?mAh Battery with 33W Fast Charging   \n",
       "24  12?GB RAM, 256?GB inbuilt  4800?mAh Battery with 100W Fast Charging   \n",
       "25   8?GB RAM, 128?GB inbuilt       4500?mAh Battery with Fast Charging   \n",
       "26   8?GB RAM, 128?GB inbuilt   5000?mAh Battery with 33W Fast Charging   \n",
       "27   6?GB RAM, 128?GB inbuilt       4323?mAh Battery with Fast Charging   \n",
       "28   8?GB RAM, 128?GB inbuilt   4500?mAh Battery with 44W Fast Charging   \n",
       "29   8?GB RAM, 128?GB inbuilt  4500?mAh Battery with 100W Fast Charging   \n",
       "30   8?GB RAM, 128?GB inbuilt   5000?mAh Battery with 33W Fast Charging   \n",
       "31   6?GB RAM, 128?GB inbuilt   5000?mAh Battery with 67W Fast Charging   \n",
       "32   8?GB RAM, 256?GB inbuilt   4700?mAh Battery with 67W Fast Charging   \n",
       "33    4?GB RAM, 64?GB inbuilt                          3110?mAh Battery   \n",
       "34   6?GB RAM, 128?GB inbuilt   5000?mAh Battery with 25W Fast Charging   \n",
       "35   8?GB RAM, 128?GB inbuilt   4500?mAh Battery with 25W Fast Charging   \n",
       "36   8?GB RAM, 256?GB inbuilt   5000?mAh Battery with 66W Fast Charging   \n",
       "37  12?GB RAM, 256?GB inbuilt   5000?mAh Battery with 45W Fast Charging   \n",
       "38   6?GB RAM, 128?GB inbuilt  5200?mAh Battery with 210W Fast Charging   \n",
       "39   8?GB RAM, 256?GB inbuilt   4500?mAh Battery with 67W Fast Charging   \n",
       "40   6?GB RAM, 128?GB inbuilt   5000?mAh Battery with 67W Fast Charging   \n",
       "41   6?GB RAM, 128?GB inbuilt   5000?mAh Battery with 67W Fast Charging   \n",
       "42   6?GB RAM, 128?GB inbuilt   5000?mAh Battery with 30W Fast Charging   \n",
       "43   8?GB RAM, 256?GB inbuilt   5000?mAh Battery with 67W Fast Charging   \n",
       "44   8?GB RAM, 128?GB inbuilt   5000?mAh Battery with 44W Fast Charging   \n",
       "45   6?GB RAM, 128?GB inbuilt   6000?mAh Battery with 25W Fast Charging   \n",
       "46    4?GB RAM, 64?GB inbuilt   5000?mAh Battery with 33W Fast Charging   \n",
       "47    3?GB RAM, 32?GB inbuilt                          5000?mAh Battery   \n",
       "48    4?GB RAM, 64?GB inbuilt   5000?mAh Battery with 10W Fast Charging   \n",
       "49   8?GB RAM, 128?GB inbuilt   5000?mAh Battery with 33W Fast Charging   \n",
       "50   6?GB RAM, 128?GB inbuilt   5000?mAh Battery with 15W Fast Charging   \n",
       "51   8?GB RAM, 128?GB inbuilt  5000?mAh Battery with 120W Fast Charging   \n",
       "52    4?GB RAM, 32?GB inbuilt   5000?mAh Battery with 18W Fast Charging   \n",
       "53   6?GB RAM, 128?GB inbuilt   5000?mAh Battery with 30W Fast Charging   \n",
       "54    4?GB RAM, 64?GB inbuilt   5000?mAh Battery with 33W Fast Charging   \n",
       "55    4?GB RAM, 64?GB inbuilt   5000?mAh Battery with 18W Fast Charging   \n",
       "56   6?GB RAM, 128?GB inbuilt       4325?mAh Battery with Fast Charging   \n",
       "57    6?GB RAM, 64?GB inbuilt   5000?mAh Battery with 33W Fast Charging   \n",
       "58   8?GB RAM, 256?GB inbuilt   4700?mAh Battery with 45W Fast Charging   \n",
       "59    4?GB RAM, 64?GB inbuilt   5000?mAh Battery with 33W Fast Charging   \n",
       "\n",
       "                                              display  \\\n",
       "0   6.7 inches, 1440?x?3216?px, 120 Hz Display wit...   \n",
       "1   6.59 inches, 1080?x?2412?px, 120 Hz Display wi...   \n",
       "2   6.6 inches, 1080?x?2408?px, 90 Hz Display with...   \n",
       "3   6.55 inches, 1080?x?2400?px, 120 Hz Display wi...   \n",
       "4   6.7 inches, 1080?x?2412?px, 120 Hz Display wit...   \n",
       "5   6.6 inches, 1080?x?2408?px, 120 Hz Display wit...   \n",
       "6   6.1 inches, 1170?x?2532?px Display with Small ...   \n",
       "7   6.67 inches, 1080?x?2400?px, 120 Hz Display wi...   \n",
       "8   6.55 inches, 1080?x?2400?px, 120 Hz Display wi...   \n",
       "9   6.43 inches, 1080?x?2400?px, 90 Hz Display wit...   \n",
       "10  6.72 inches, 1080?x?2400?px, 120 Hz Display wi...   \n",
       "11  6.56 inches, 720?x?1612?px, 90 Hz Display with...   \n",
       "12  6.67 inches, 1080?x?2400?px, 120 Hz Display wi...   \n",
       "13  6.58 inches, 1080?x?2408?px, 120 Hz Display wi...   \n",
       "14  6.8 inches, 1440?x?3088?px, 120 Hz Display wit...   \n",
       "15  6.1 inches, 1170?x?2532?px Display with Small ...   \n",
       "16  6.51 inches, 720?x?1600?px Display with Water ...   \n",
       "17  6.7 inches, 1080?x?2412?px, 120 Hz Display wit...   \n",
       "18  6.7 inches, 1080?x?2412?px, 120 Hz Display wit...   \n",
       "19  6.55 inches, 720?x?1612?px Display with Water ...   \n",
       "20  6.7 inches, 1080?x?2412?px, 120 Hz Display wit...   \n",
       "21  6.56 inches, 1080?x?2376?px, 120 Hz Display wi...   \n",
       "22  6.67 inches, 1080?x?2400?px, 120 Hz Display wi...   \n",
       "23  6.67 inches, 1080?x?2400?px, 120 Hz Display wi...   \n",
       "24  6.7 inches, 1080?x?2400?px, 120 Hz Display wit...   \n",
       "25  6.5 inches, 1080?x?2400?px, 120 Hz Display wit...   \n",
       "26  6.59 inches, 1080?x?2412?px, 120 Hz Display wi...   \n",
       "27         6.7 inches, 1290?x?2796?px, 120 Hz Display   \n",
       "28  6.44 inches, 1080?x?2408?px, 90 Hz Display wit...   \n",
       "29  6.7 inches, 1440?x?3216?px, 120 Hz Display wit...   \n",
       "30  6.72 inches, 1080?x?2400?px, 120 Hz Display wi...   \n",
       "31  6.67 inches, 1080?x?2400?px, 120 Hz Display wi...   \n",
       "32  6.56 inches, 1080?x?2400?px, 120 Hz Display wi...   \n",
       "33  6.1 inches, 828?x?1792?px Display with Large N...   \n",
       "34  6.7 inches, 1080?x?2400?px, 120 Hz Display wit...   \n",
       "35  6.4 inches, 1080?x?2340?px, 120 Hz Display wit...   \n",
       "36  6.67 inches, 1080?x?2400?px, 120 Hz Display wi...   \n",
       "37  6.8 inches, 1440?x?3080?px, 120 Hz Display wit...   \n",
       "38  6.67 inches, 1080?x?2460?px, 120 Hz Display wi...   \n",
       "39  6.7 inches, 1080?x?2412?px, 120 Hz Display wit...   \n",
       "40  6.7 inches, 1080?x?2412?px, 120 Hz Display wit...   \n",
       "41  6.67 inches, 1080?x?2400?px, 120 Hz Display wi...   \n",
       "42  6.67 inches, 1080?x?2400?px, 90 Hz Display wit...   \n",
       "43  6.7 inches, 1080?x?2412?px, 120 Hz Display wit...   \n",
       "44  6.58 inches, 1080?x?2408?px, 90 Hz Display wit...   \n",
       "45  6.6 inches, 1080?x?2400?px, 120 Hz Display wit...   \n",
       "46  6.43 inches, 1080?x?2400?px, 90 Hz Display wit...   \n",
       "47  6.5 inches, 720?x?1600?px Display with Water D...   \n",
       "48  6.51 inches, 720?x?1600?px Display with Water ...   \n",
       "49  6.7 inches, 1080?x?2412?px, 120 Hz Display wit...   \n",
       "50  6.6 inches, 1080?x?2408?px, 90 Hz Display with...   \n",
       "51  6.78 inches, 1080?x?2400?px, 120 Hz Display wi...   \n",
       "52           6.5 inches, 720?x?1600?px, 90 Hz Display   \n",
       "53  6.6 inches, 1080?x?2400?px, 120 Hz Display wit...   \n",
       "54  6.4 inches, 1080?x?2400?px, 90 Hz Display with...   \n",
       "55  6.6 inches, 1080?x?2408?px, 90 Hz Display with...   \n",
       "56  6.7 inches, 1284?x?2778?px Display with Small ...   \n",
       "57  6.43 inches, 1080?x?2400?px Display with Punch...   \n",
       "58  6.6 inches, 1080?x?2340?px, 120 Hz Display wit...   \n",
       "59  6.55 inches, 1080?x?2400?px, 90 Hz Display wit...   \n",
       "\n",
       "                                               camera  \\\n",
       "0   50?MP + 48?MP + 32?MP Triple Rear & 16?MP Fron...   \n",
       "1   64?MP + 2?MP + 2?MP Triple Rear & 16?MP Front ...   \n",
       "2   50?MP + 2?MP + 2?MP Triple Rear & 13?MP Front ...   \n",
       "3   50?MP + 8?MP + 2?MP Triple Rear & 16?MP Front ...   \n",
       "4   108?MP + 8?MP + 2?MP Triple Rear & 16?MP Front...   \n",
       "5   50?MP + 8?MP + 2?MP Triple Rear & 8?MP Front C...   \n",
       "6        12?MP + 12?MP Dual Rear & 12?MP Front Camera   \n",
       "7   200?MP + 8?MP + 2?MP Triple Rear & 16?MP Front...   \n",
       "8        50?MP + 50?MP Dual Rear & 16?MP Front Camera   \n",
       "9   50?MP + 8?MP + 2?MP Triple Rear & 32?MP Front ...   \n",
       "10       108?MP + 2?MP Dual Rear & 16?MP Front Camera   \n",
       "11         50?MP + 2?MP Dual Rear & 8?MP Front Camera   \n",
       "12  50?MP + 8?MP + 2?MP Triple Rear & 16?MP Front ...   \n",
       "13  50?MP + 2?MP + 2?MP Triple Rear & 16?MP Front ...   \n",
       "14              200?MP Quad Rear & 12?MP Front Camera   \n",
       "15       12?MP + 12?MP Dual Rear & 12?MP Front Camera   \n",
       "16         13?MP + 2?MP Dual Rear & 5?MP Front Camera   \n",
       "17  50?MP + 8?MP + 2?MP Triple Rear & 32?MP Front ...   \n",
       "18  50?MP + 8?MP + 2?MP Triple Rear & 16?MP Front ...   \n",
       "19         50?MP + 2?MP Dual Rear & 8?MP Front Camera   \n",
       "20  50?MP + 12?MP + 2?MP Triple Rear & 16?MP Front...   \n",
       "21  64?MP + 8?MP + 2?MP Triple Rear & 32?MP Front ...   \n",
       "22  64?MP + 8?MP + 2?MP Triple Rear & 16?MP Front ...   \n",
       "23  48?MP + 8?MP + 2?MP Triple Rear & 13?MP Front ...   \n",
       "24  64?MP + 8?MP + 2?MP Triple Rear & 32?MP Front ...   \n",
       "25  12?MP + 12?MP + 8?MP Triple Rear & 32?MP Front...   \n",
       "26  64?MP + 2?MP + 2?MP Triple Rear & 16?MP Front ...   \n",
       "27  48?MP + 12?MP + 12?MP Triple Rear & 12?MP Fron...   \n",
       "28  64?MP + 8?MP + 2?MP Triple Rear & 50?MP Front ...   \n",
       "29  50?MP + 48?MP + 32?MP Triple Rear & 16?MP Fron...   \n",
       "30       108?MP + 2?MP Dual Rear & 16?MP Front Camera   \n",
       "31  108?MP + 8?MP + 2?MP Triple Rear & 16?MP Front...   \n",
       "32  64?MP + 13?MP + 2?MP Triple Rear & 50?MP Front...   \n",
       "33       12?MP + 12?MP Dual Rear & 12?MP Front Camera   \n",
       "34              108?MP Quad Rear & 32?MP Front Camera   \n",
       "35  12?MP + 12?MP + 8?MP Triple Rear & 32?MP Front...   \n",
       "36  108?MP + 13?MP + 2?MP Triple Rear & 16?MP Fron...   \n",
       "37              108?MP Quad Rear & 40?MP Front Camera   \n",
       "38              108?MP Quad Rear & 32?MP Front Camera   \n",
       "39        64?MP + 2?MP Dual Rear & 32?MP Front Camera   \n",
       "40  108?MP + 2?MP + 2?MP Triple Rear & 16?MP Front...   \n",
       "41  108?MP + 8?MP + 2?MP Triple Rear & 16?MP Front...   \n",
       "42  108?MP + 8?MP + 2?MP Triple Rear & 32?MP Front...   \n",
       "43  108?MP + 8?MP + 2?MP Triple Rear & 16?MP Front...   \n",
       "44  50?MP + 2?MP + 2?MP Triple Rear & 16?MP Front ...   \n",
       "45                50?MP Quad Rear & 8?MP Front Camera   \n",
       "46               50?MP Quad Rear & 13?MP Front Camera   \n",
       "47       50?MP + 0.3?MP Dual Rear & 5?MP Front Camera   \n",
       "48         13?MP + 2?MP Dual Rear & 5?MP Front Camera   \n",
       "49              108?MP Quad Rear & 32?MP Front Camera   \n",
       "50  50?MP + 2?MP + 2?MP Triple Rear & 13?MP Front ...   \n",
       "51  64?MP + 2?MP + 2?MP Triple Rear & 16?MP Front ...   \n",
       "52                     13?MP Rear & 8?MP Front Camera   \n",
       "53  50?MP + 8?MP + 2?MP Triple Rear & 16?MP Front ...   \n",
       "54        50?MP + 2?MP Dual Rear & 16?MP Front Camera   \n",
       "55  50?MP + 2?MP + 2?MP Triple Rear & 8?MP Front C...   \n",
       "56       12?MP + 12?MP Dual Rear & 12?MP Front Camera   \n",
       "57               64?MP Quad Rear & 13?MP Front Camera   \n",
       "58  50?MP + 12?MP + 10?MP Triple Rear & 12?MP Fron...   \n",
       "59  50?MP + 8?MP + 2?MP Triple Rear & 16?MP Front ...   \n",
       "\n",
       "                                  card           os  \n",
       "0            Memory Card Not Supported  Android v13  \n",
       "1      Memory Card (Hybrid), upto 1?TB  Android v12  \n",
       "2     Memory Card Supported, upto 1?TB  Android v13  \n",
       "3      Memory Card (Hybrid), upto 1?TB  Android v12  \n",
       "4            Memory Card Not Supported  Android v13  \n",
       "5     Memory Card Supported, upto 1?TB  Android v12  \n",
       "6            Memory Card Not Supported      iOS v16  \n",
       "7            Memory Card Not Supported  Android v12  \n",
       "8                          Android v12  No FM Radio  \n",
       "9                          Android v12  No FM Radio  \n",
       "10    Memory Card Supported, upto 1?TB  Android v13  \n",
       "11               Memory Card Supported  Android v12  \n",
       "12                         Android v12  No FM Radio  \n",
       "13     Memory Card (Hybrid), upto 1?TB  Android v12  \n",
       "14           Memory Card Not Supported  Android v13  \n",
       "15           Memory Card Not Supported      iOS v15  \n",
       "16               Memory Card Supported  Android v12  \n",
       "17                         Android v13  No FM Radio  \n",
       "18                         Android v12    Bluetooth  \n",
       "19    Memory Card Supported, upto 1?TB  Android v12  \n",
       "20                         Android v13    Bluetooth  \n",
       "21                         Android v12  No FM Radio  \n",
       "22     Memory Card (Hybrid), upto 1?TB  Android v11  \n",
       "23     Memory Card (Hybrid), upto 1?TB  Android v12  \n",
       "24                         Android v13  No FM Radio  \n",
       "25                Memory Card (Hybrid)  Android v10  \n",
       "26     Memory Card (Hybrid), upto 1?TB  Android v12  \n",
       "27           Memory Card Not Supported      iOS v16  \n",
       "28     Memory Card (Hybrid), upto 1?TB  Android v12  \n",
       "29                         Android v13  No FM Radio  \n",
       "30    Memory Card Supported, upto 1?TB  Android v13  \n",
       "31           Memory Card Not Supported  Android v13  \n",
       "32               Memory Card Supported  Android v13  \n",
       "33           Memory Card Not Supported      iOS v13  \n",
       "34     Memory Card (Hybrid), upto 1?TB  Android v12  \n",
       "35           Memory Card Not Supported  Android v11  \n",
       "36    Memory Card Supported, upto 1?TB  Android v13  \n",
       "37                         Android v12    Bluetooth  \n",
       "38  Memory Card Supported, upto 512?GB  Android v12  \n",
       "39                         Android v13  No FM Radio  \n",
       "40    Memory Card Supported, upto 1?TB  Android v12  \n",
       "41     Memory Card (Hybrid), upto 1?TB  Android v11  \n",
       "42     Memory Card (Hybrid), upto 1?TB  Android v11  \n",
       "43           Memory Card Not Supported  Android v13  \n",
       "44    Memory Card Supported, upto 1?TB  Android v12  \n",
       "45    Memory Card Supported, upto 1?TB  Android v12  \n",
       "46  Memory Card Supported, upto 512?GB  Android v11  \n",
       "47    Memory Card Supported, upto 1?TB  Android v12  \n",
       "48               Memory Card Supported  Android v12  \n",
       "49     Memory Card (Hybrid), upto 1?TB  Android v12  \n",
       "50    Memory Card Supported, upto 1?TB  Android v13  \n",
       "51                         Android v13  No FM Radio  \n",
       "52  Memory Card Supported, upto 512?GB  Android v12  \n",
       "53    Memory Card Supported, upto 1?TB  Android v12  \n",
       "54    Memory Card Supported, upto 1?TB  Android v12  \n",
       "55    Memory Card Supported, upto 1?TB  Android v12  \n",
       "56           Memory Card Not Supported      iOS v16  \n",
       "57  Memory Card Supported, upto 512?GB  Android v11  \n",
       "58                         Android v13  No FM Radio  \n",
       "59     Memory Card (Hybrid), upto 1?TB  Android v12  "
      ]
     },
     "execution_count": 360,
     "metadata": {},
     "output_type": "execute_result"
    }
   ],
   "source": [
    "df.head(60)"
   ]
  },
  {
   "cell_type": "code",
   "execution_count": 361,
   "id": "88fcae49",
   "metadata": {},
   "outputs": [
    {
     "data": {
      "text/html": [
       "<div>\n",
       "<style scoped>\n",
       "    .dataframe tbody tr th:only-of-type {\n",
       "        vertical-align: middle;\n",
       "    }\n",
       "\n",
       "    .dataframe tbody tr th {\n",
       "        vertical-align: top;\n",
       "    }\n",
       "\n",
       "    .dataframe thead th {\n",
       "        text-align: right;\n",
       "    }\n",
       "</style>\n",
       "<table border=\"1\" class=\"dataframe\">\n",
       "  <thead>\n",
       "    <tr style=\"text-align: right;\">\n",
       "      <th></th>\n",
       "      <th>rating</th>\n",
       "    </tr>\n",
       "  </thead>\n",
       "  <tbody>\n",
       "    <tr>\n",
       "      <th>count</th>\n",
       "      <td>1002.000000</td>\n",
       "    </tr>\n",
       "    <tr>\n",
       "      <th>mean</th>\n",
       "      <td>78.232535</td>\n",
       "    </tr>\n",
       "    <tr>\n",
       "      <th>std</th>\n",
       "      <td>6.930857</td>\n",
       "    </tr>\n",
       "    <tr>\n",
       "      <th>min</th>\n",
       "      <td>60.000000</td>\n",
       "    </tr>\n",
       "    <tr>\n",
       "      <th>25%</th>\n",
       "      <td>75.000000</td>\n",
       "    </tr>\n",
       "    <tr>\n",
       "      <th>50%</th>\n",
       "      <td>78.000000</td>\n",
       "    </tr>\n",
       "    <tr>\n",
       "      <th>75%</th>\n",
       "      <td>83.750000</td>\n",
       "    </tr>\n",
       "    <tr>\n",
       "      <th>max</th>\n",
       "      <td>89.000000</td>\n",
       "    </tr>\n",
       "  </tbody>\n",
       "</table>\n",
       "</div>"
      ],
      "text/plain": [
       "            rating\n",
       "count  1002.000000\n",
       "mean     78.232535\n",
       "std       6.930857\n",
       "min      60.000000\n",
       "25%      75.000000\n",
       "50%      78.000000\n",
       "75%      83.750000\n",
       "max      89.000000"
      ]
     },
     "execution_count": 361,
     "metadata": {},
     "output_type": "execute_result"
    }
   ],
   "source": [
    "df.describe()"
   ]
  },
  {
   "cell_type": "code",
   "execution_count": 362,
   "id": "206000db",
   "metadata": {},
   "outputs": [],
   "source": [
    "# df['price'] = df['price'].apply(lambda x : x.split('₹')[1])"
   ]
  },
  {
   "cell_type": "code",
   "execution_count": 363,
   "id": "f73ffbdc",
   "metadata": {},
   "outputs": [
    {
     "name": "stdout",
     "output_type": "stream",
     "text": [
      "aa\n"
     ]
    }
   ],
   "source": [
    "print('aa')"
   ]
  },
  {
   "cell_type": "code",
   "execution_count": 364,
   "id": "ce5da431",
   "metadata": {},
   "outputs": [],
   "source": [
    "# df['price'] = df['price'].str.replace(',', '').astype(float)"
   ]
  },
  {
   "cell_type": "code",
   "execution_count": 365,
   "id": "07227308",
   "metadata": {},
   "outputs": [],
   "source": [
    "df.replace(\"\\?\",\"\",inplace=True,regex=True)"
   ]
  },
  {
   "cell_type": "code",
   "execution_count": 366,
   "id": "c0014e13",
   "metadata": {},
   "outputs": [],
   "source": [
    "battery_ram_shift=df[[\"battery\"]][(~df[\"battery\"].str.contains(\"Camera\"))&(~df[\"battery\"].str.contains(\"inches\"))&(~df[\"battery\"].str.contains(\"mAh\"))]\n",
    "battery_camera_shift=df[[\"battery\"]][(~df[\"battery\"].str.contains(\"RAM\"))&(~df[\"battery\"].str.contains(\"inches\"))&(~df[\"battery\"].str.contains(\"mAh\"))]\n",
    "battery_ram_shift.rename(columns={\"battery\":\"ram\"},inplace=True)\n",
    "battery_camera_shift.rename(columns={\"battery\":\"camera\"},inplace=True)"
   ]
  },
  {
   "cell_type": "code",
   "execution_count": 367,
   "id": "2ae3d185",
   "metadata": {},
   "outputs": [],
   "source": [
    "camera_memory_shift=df[[\"camera\"]][(~df[\"camera\"].str.contains(\"Camera\",regex=True))&(~df[\"camera\"].str.contains(\"Display\",regex=True))]\n",
    "camera_Display_shift=df[[\"camera\"]][(~df[\"camera\"].str.contains(\"Camera\",regex=True))&(~df[\"camera\"].str.contains(\"Memory\",regex=True))]\n",
    "camera_memory_shift.rename(columns={\"camera\":\"card\"},inplace=True)\n",
    "camera_Display_shift.rename(columns={\"camera\":\"display\"},inplace=True)"
   ]
  },
  {
   "cell_type": "code",
   "execution_count": 368,
   "id": "ffbbde3a",
   "metadata": {},
   "outputs": [],
   "source": [
    "#the column card contains some data which belongs to other columns\n",
    "card_os_shift=df[[\"card\"]][(~df['card'].str.contains(\"Memory\"))&(~df['card'].str.contains(\"Camera\"))&(~df['card'].str.contains(\"Display\"))]\n",
    "card_camera_shift=df[[\"card\"]][(~df['card'].str.contains(\"Memory\"))&(~df['card'].str.contains(\"Android\"))&(~df['card'].str.contains(\"Bluetooth\"))&(~df['card'].str.contains(\"OS\"))&(df['card'].str.contains(\"Camera\"))]\n",
    "card_Display_shift=df[[\"card\"]][(~df['card'].str.contains(\"Memory\"))&(df['card'].str.contains(\"Display\"))]\n",
    "card_camera_shift.rename(columns={\"card\":\"camera\"},inplace=True)\n",
    "card_Display_shift.rename(columns={\"card\":\"display\"},inplace=True)\n",
    "card_os_shift.rename(columns={\"card\":\"os\"},inplace=True)"
   ]
  },
  {
   "cell_type": "code",
   "execution_count": 369,
   "id": "fcff1091",
   "metadata": {},
   "outputs": [],
   "source": [
    "#the column display contains some data which belongs to other columns\n",
    "display_battery_shift=df[[\"display\"]][(~df['display'].str.contains(\"Display\"))&(df['display'].str.contains(\"Battery\"))]\n",
    "display_camera_shift=df[[\"display\"]][(~df['display'].str.contains(\"Display\"))&(df['display'].str.contains(\"Camera\"))]\n",
    "display_camera_shift.rename(columns={\"display\":\"camera\"},inplace=True)\n",
    "display_battery_shift.rename(columns={\"display\":\"battery\"},inplace=True)"
   ]
  },
  {
   "cell_type": "code",
   "execution_count": 370,
   "id": "445197ef",
   "metadata": {},
   "outputs": [],
   "source": [
    "#the column os contains some data which belongs to other columns\n",
    "os_card_shift=df[[\"os\"]][df['os'].str.contains(\"Memory\")]\n",
    "os_camera_shift=df[[\"os\"]][df['os'].str.contains(\"Camera\")]\n",
    "os_camera_shift.rename(columns={\"os\":\"camera\"},inplace=True)\n",
    "os_card_shift.rename(columns={\"os\":\"card\"},inplace=True)"
   ]
  },
  {
   "cell_type": "code",
   "execution_count": 371,
   "id": "642037ac",
   "metadata": {},
   "outputs": [],
   "source": [
    "#the column processor contains some data which belongs to other columns\n",
    "processor_sim_shift=df[[\"processor\"]][(df['processor'].str.contains(\"No\"))]\n",
    "processor_sim_shift.rename(columns={\"processor\":\"sim\"},inplace=True)"
   ]
  },
  {
   "cell_type": "code",
   "execution_count": 372,
   "id": "aad7c35f",
   "metadata": {},
   "outputs": [],
   "source": [
    "#the column ram contains some data which belongs to other columns\n",
    "ram_battery_shift=df[['ram']][(~df['ram'].str.contains(\"RAM\"))&(df['ram'].str.contains(\"Battery\"))]\n",
    "ram_os_shift=df[['ram']][(~df['ram'].str.contains(\"GB\"))&(df['ram'].str.contains(\"T\"))]\n",
    "ram_display_shift=df[['ram']][(df['ram'].str.contains(\"Display\"))]\n",
    "ram_sim_shift=df[['ram']][(df['ram'].str.contains(\"No\"))]\n",
    "ram_processor_shift=df[['ram']][(df['ram'].str.contains(\"Core\"))]"
   ]
  },
  {
   "cell_type": "code",
   "execution_count": 373,
   "id": "df74bf67",
   "metadata": {},
   "outputs": [],
   "source": [
    "ram_battery_shift.rename(columns={\"ram\":\"battery\"},inplace=True)\n",
    "ram_display_shift.rename(columns={\"ram\":\"display\"},inplace=True)\n",
    "ram_os_shift.rename(columns={\"ram\":\"os\"},inplace=True)\n",
    "ram_processor_shift.rename(columns={\"ram\":\"proessor\"},inplace=True)\n",
    "ram_sim_shift.rename(columns={\"ram\":\"sim\"},inplace=True)"
   ]
  },
  {
   "cell_type": "code",
   "execution_count": 377,
   "id": "5ded389e",
   "metadata": {},
   "outputs": [],
   "source": [
    "\n",
    "#code for shifting the inappropriate data to their respective columns\n",
    "df.update(battery_camera_shift)\n",
    "df.update(battery_ram_shift)\n",
    "df.update(processor_sim_shift)\n",
    "df.update(ram_battery_shift)\n",
    "df.update(ram_display_shift)\n",
    "df.update(ram_os_shift)\n",
    "df.update(ram_processor_shift)\n",
    "df.update(ram_sim_shift)\n",
    "df.update(display_battery_shift)\n",
    "df.update(display_camera_shift)\n",
    "df.update(camera_Display_shift)\n",
    "df.update(camera_memory_shift)\n",
    "df.update(card_camera_shift)\n",
    "df.update(card_Display_shift)\n",
    "df.update(card_os_shift)\n",
    "df.update(os_camera_shift)\n",
    "df.update(os_card_shift)"
   ]
  },
  {
   "cell_type": "code",
   "execution_count": 378,
   "id": "a24f0456",
   "metadata": {},
   "outputs": [],
   "source": [
    "#replacing the inappropirate data with mode of that column\n",
    "df[\"battery\"]=np.where(df[\"battery\"].str.contains(\"mAh\"),df[\"battery\"],df[\"battery\"].mode())\n",
    "df[\"card\"]=np.where(df[\"card\"].str.contains(\"Memory\"),df[\"card\"],df[\"card\"].mode())\n",
    "df[\"os\"]=np.where(df[\"os\"].str.contains(\"Memory\"),df[\"os\"].mode(),df[\"os\"])\n",
    "df[\"os\"]=np.where(df[\"os\"].str.contains(\"Camera\"),df[\"os\"].mode(),df[\"os\"])\n",
    "df[\"ram\"]=np.where(df[\"ram\"].str.contains(\"Display\"),df[\"ram\"].mode(),df[\"ram\"])\n",
    "df[\"ram\"]=np.where(df[\"ram\"].str.contains(\"Battery\"),df[\"ram\"].mode(),df[\"ram\"])\n",
    "df[\"display\"]=np.where(df[\"display\"].str.contains(\"Display\"),df[\"display\"],df[\"display\"].mode())\n",
    "df[\"processor\"]=np.where(df[\"processor\"].str.contains(\"No\"),df[\"processor\"].mode(),df[\"processor\"])\n",
    "df[\"processor\"]=np.where(df[\"processor\"].str.contains(\"RAM\"),df[\"processor\"].mode(),df[\"processor\"])"
   ]
  },
  {
   "cell_type": "code",
   "execution_count": 379,
   "id": "b4cebc38",
   "metadata": {},
   "outputs": [],
   "source": [
    "battery=df['battery'].str.split(\"with\",expand=True).rename(columns={0:'battery_capacity', 1:'charging_capacity'})\n",
    "battery['battery_capacity'].replace(\"mAh Battery\",\"\",inplace=True,regex=True)\n",
    "battery['battery_capacity']=battery['battery_capacity'].str.strip()"
   ]
  },
  {
   "cell_type": "code",
   "execution_count": 380,
   "id": "2c5d2f7c",
   "metadata": {},
   "outputs": [],
   "source": [
    "battery['charging_capacity'].replace(\"W Fast Charging\",\"\",inplace=True,regex=True)\n",
    "battery['charging_capacity'].replace(\"Fast Charging\",33,inplace=True,regex=True)\n",
    "battery['charging_capacity']=battery['charging_capacity'].str.strip()"
   ]
  },
  {
   "cell_type": "code",
   "execution_count": 381,
   "id": "e9f73bff",
   "metadata": {},
   "outputs": [
    {
     "data": {
      "text/plain": [
       "array(['5000', '3279', '4980', '4500', '3240', '4700', '4830', '4800',\n",
       "       '4323', '3110', '5200', '6000', '4325', '4600', '4200', '3500',\n",
       "       '3095', '4020', '3200', '4400', '4310', '4820', '3700', '5160',\n",
       "       '5080', '3900', '4410', '5020', '2800', '4352', '1450', '4520',\n",
       "       '4810', '4000', '2050', '2150', '4610', '5100', '7000', '4300',\n",
       "       '5500', '4050', '4355', '3060', '1500', '5003', '2438', '4250',\n",
       "       '3300', '4450', '4614', '4870', '4030', '4350', '4100', '21000',\n",
       "       '2000', '4860', '2275', '4230', '1900', '3020', '4730', '3520',\n",
       "       '4080', '2500', '5050', '5600', '4470', '3360', '3000', '2230',\n",
       "       '9800', '1150', '1821', '1480', '4015', '3285', '4360', '3315',\n",
       "       '1200', '3600', '3100', '22000', '2400', '1020', '4532', '1800',\n",
       "       '5065', '4620', '4780', '3730', '3400', '2730', '5180', '800',\n",
       "       '8000'], dtype=object)"
      ]
     },
     "execution_count": 381,
     "metadata": {},
     "output_type": "execute_result"
    }
   ],
   "source": [
    "battery['battery_capacity'].unique()"
   ]
  },
  {
   "cell_type": "code",
   "execution_count": 382,
   "id": "9f294be6",
   "metadata": {},
   "outputs": [
    {
     "data": {
      "text/plain": [
       "array(['100', '33', '15', nan, '67', '25', '120', '80', '18', '45', '10',\n",
       "       '66', '44', None, '210', '30', '150', '68', '50', '20', '65',\n",
       "       '180', '125', '40', '60', '200', '240', '19', '21', '135', '165',\n",
       "       '22.5', '27', '55', '68.2'], dtype=object)"
      ]
     },
     "execution_count": 382,
     "metadata": {},
     "output_type": "execute_result"
    }
   ],
   "source": [
    "battery['charging_capacity'].unique()"
   ]
  },
  {
   "cell_type": "code",
   "execution_count": 383,
   "id": "b6c8e367",
   "metadata": {},
   "outputs": [],
   "source": [
    "battery['charging_capacity'].fillna(33,inplace=True)"
   ]
  },
  {
   "cell_type": "code",
   "execution_count": 384,
   "id": "2869bbcd",
   "metadata": {},
   "outputs": [],
   "source": [
    "camera=df['camera'].str.split(\"&\",expand=True).rename(columns={0:'Rear Camera', 1:'Front Camera'})\n",
    "frontCam=camera['Front Camera'].str.split(\"+\",expand=True).rename(columns={0:'Main Camera', 1:'Additional Camera'})\n",
    "frontCam['Main Camera'].replace(\"Front Camera\",\"\",inplace=True,regex=True)\n",
    "frontCam['Main Camera'].replace({\"MP\":\"\",\"Dual\":\"\",\"Main\":16},inplace=True,regex=True)"
   ]
  },
  {
   "cell_type": "code",
   "execution_count": 385,
   "id": "d01944b0",
   "metadata": {},
   "outputs": [],
   "source": [
    "frontCam['Main Camera']=frontCam['Main Camera'].str.strip()\n",
    "camera['Front Camera']=frontCam['Main Camera']\n",
    "camera['Rear Camera'].replace({\"Triple Rear\":\"\",\"MP\":\"\"},regex=True,inplace=True)\n",
    "Rear_Camera=camera['Rear Camera'].str.split(\"+\",expand=True).rename(columns={0:'Primary Camera', 1:'Secondary Camera', 2:'Additional Camera'})"
   ]
  },
  {
   "cell_type": "code",
   "execution_count": 386,
   "id": "c820adce",
   "metadata": {},
   "outputs": [
    {
     "data": {
      "text/plain": [
       "array(['50 ', '64 ', '108 ', '12 ', '200 ', '200 Quad Rear ', '13 ',\n",
       "       '48 ', '108 Quad Rear ', '50 Quad Rear ', '13 Rear ',\n",
       "       '64 Quad Rear ', '8 Rear ', '13 Dual Rear ', '48 Quad Rear ',\n",
       "       '50.3 Quad Rear ', '50.3 ', '8 Dual Rear ', '12.2 ', '5 Rear ',\n",
       "       '5 Rear Camera', '50 Dual Rear ', '8 ', '12 Rear ',\n",
       "       '200 Penta Rear ', '2 Rear Camera', '54 ', '16 ',\n",
       "       '0.3 Rear Camera', '2 Rear ', '48  ', '12 Quad Rear ', '20 ',\n",
       "       '12.2 Rear ', '1.3 Rear Camera', 'No Rear Camera', '16 Rear ',\n",
       "       '13 Quad Rear ', '5 ', '20 Rear ', '47.2 ', '40 Quad Rear ',\n",
       "       '48 Quad Rear Camera', '24 '], dtype=object)"
      ]
     },
     "execution_count": 386,
     "metadata": {},
     "output_type": "execute_result"
    }
   ],
   "source": [
    "Rear_Camera['Primary Camera'].unique()"
   ]
  },
  {
   "cell_type": "code",
   "execution_count": 387,
   "id": "e291cfd6",
   "metadata": {},
   "outputs": [],
   "source": [
    "Rear_Camera['Primary Camera'].replace({\"Quad Rear\":\"\",\"Rear\":\"\",\"Rear Camera\":\"\"},regex=True,inplace=True)\n",
    "Rear_Camera['Primary Camera'].replace({\"Dual\":\"\",\"Camera\":\"\",\"Penta\":\"\",\"No\":0},regex=True,inplace=True)\n",
    "Rear_Camera['Primary Camera']=Rear_Camera['Primary Camera'].str.strip()"
   ]
  },
  {
   "cell_type": "code",
   "execution_count": 388,
   "id": "7ce88de5",
   "metadata": {},
   "outputs": [
    {
     "data": {
      "text/plain": [
       "array([' 48 ', ' 2 ', ' 8 ', ' 12 Dual Rear ', ' 50 Dual Rear ',\n",
       "       ' 2 Dual Rear ', None, ' 12 ', ' 13 ', ' 0.3 Dual Rear ',\n",
       "       ' 8 Dual Rear ', ' 10 ', ' 50 ', ' 5 ', ' Depth Sensor Dual Rear ',\n",
       "       ' 2  ', ' 5 Dual Rear ', ' 16 ', ' 12.2 Dual Rear ',\n",
       "       ' Depth Sensor ', ' 20 ', ' 50  ', ' 16 Dual Rear ', ' 64 ',\n",
       "       ' 13 Dual Rear ', ' 0.08 Dual Rear ', ' 1.9 Dual Rear ', ' 3 ',\n",
       "       ' 12.2 '], dtype=object)"
      ]
     },
     "execution_count": 388,
     "metadata": {},
     "output_type": "execute_result"
    }
   ],
   "source": [
    "Rear_Camera['Secondary Camera'].unique()"
   ]
  },
  {
   "cell_type": "code",
   "execution_count": 389,
   "id": "e3b313f1",
   "metadata": {},
   "outputs": [
    {
     "data": {
      "text/plain": [
       "array([' 48 ', ' 2 ', ' 8 ', ' 12  ', ' 50  ', ' 2  ', None, ' 12 ',\n",
       "       ' 13 ', ' 0.3  ', ' 8  ', ' 10 ', ' 50 ', ' 5 ', '   ', ' 5  ',\n",
       "       ' 16 ', ' 12.2  ', '  ', ' 20 ', ' 16  ', ' 64 ', ' 13  ',\n",
       "       ' 0.08  ', ' 1.9  ', ' 3 ', ' 12.2 '], dtype=object)"
      ]
     },
     "execution_count": 389,
     "metadata": {},
     "output_type": "execute_result"
    }
   ],
   "source": [
    "Rear_Camera['Secondary Camera'].replace({\"Dual Rear\":\"\",\"Depth Sensor\":\"\",\"None\":\"0\",\"\":\"0\"},regex=True,inplace=True)\n",
    "Rear_Camera['Secondary Camera'].unique()"
   ]
  },
  {
   "cell_type": "code",
   "execution_count": 390,
   "id": "b527b19a",
   "metadata": {},
   "outputs": [],
   "source": [
    "Rear_Camera['Secondary Camera']=Rear_Camera['Secondary Camera'].str.strip()"
   ]
  },
  {
   "cell_type": "code",
   "execution_count": 391,
   "id": "37de8292",
   "metadata": {},
   "outputs": [
    {
     "data": {
      "text/plain": [
       "array([' 32  ', ' 2  ', None, ' 8  ', ' 12  ', ' 10  ', ' 50  ', ' 5  ',\n",
       "       ' 0.3  ', ' 13  ', ' Ultra Wide  ', ' 48  ', ' 12  Camera',\n",
       "       ' 64  ', ' 16  ', ' 12.2  ', ' Depth Sensor  '], dtype=object)"
      ]
     },
     "execution_count": 391,
     "metadata": {},
     "output_type": "execute_result"
    }
   ],
   "source": [
    "Rear_Camera['Additional Camera'].unique()"
   ]
  },
  {
   "cell_type": "code",
   "execution_count": 392,
   "id": "7195371b",
   "metadata": {},
   "outputs": [
    {
     "data": {
      "text/plain": [
       "0     2  \n",
       "Name: Additional Camera, dtype: object"
      ]
     },
     "execution_count": 392,
     "metadata": {},
     "output_type": "execute_result"
    }
   ],
   "source": [
    "Rear_Camera['Additional Camera'].mode()"
   ]
  },
  {
   "cell_type": "code",
   "execution_count": 393,
   "id": "2d93fd52",
   "metadata": {},
   "outputs": [],
   "source": [
    "Rear_Camera['Additional Camera'].replace({\"Ultra Wide\":2,\"Depth Sensor\":2,\"Camera\":\"\"},regex=True,inplace=True)\n",
    "Rear_Camera['Additional Camera']=Rear_Camera['Additional Camera'].str.strip()"
   ]
  },
  {
   "cell_type": "code",
   "execution_count": 394,
   "id": "60555b44",
   "metadata": {},
   "outputs": [],
   "source": [
    "storage=df['card'].str.split(\",\",expand=True).rename(columns={0:\"type\",1:\"upto\"})"
   ]
  },
  {
   "cell_type": "code",
   "execution_count": 395,
   "id": "1a11c2c7",
   "metadata": {},
   "outputs": [
    {
     "data": {
      "text/plain": [
       "Memory Card Supported        716\n",
       "Memory Card (Hybrid)         157\n",
       "Memory Card Not Supported    129\n",
       "Name: type, dtype: int64"
      ]
     },
     "execution_count": 395,
     "metadata": {},
     "output_type": "execute_result"
    }
   ],
   "source": [
    "storage['type'].value_counts()"
   ]
  },
  {
   "cell_type": "code",
   "execution_count": 396,
   "id": "fa047055",
   "metadata": {},
   "outputs": [
    {
     "data": {
      "text/plain": [
       "array([None, ' upto 1TB', ' upto 512GB', ' upto 256GB', ' upto 2TB',\n",
       "       ' upto 128GB', ' upto 32GB', ' upto 64GB', ' upto 1000GB',\n",
       "       ' upto 16GB', ' upto 48GB'], dtype=object)"
      ]
     },
     "execution_count": 396,
     "metadata": {},
     "output_type": "execute_result"
    }
   ],
   "source": [
    "storage[\"upto\"].unique()"
   ]
  },
  {
   "cell_type": "code",
   "execution_count": 397,
   "id": "d4981f2a",
   "metadata": {},
   "outputs": [],
   "source": [
    "storage['upto']=np.where(storage['type'].str.contains(\"Memory Card Not Supported\"),\"1\",storage['upto'])\n",
    "storage['upto']=np.where((storage['type'].str.contains(\"Memory Card Supported\")&(storage['upto'].isnull())),'512',storage['upto'])\n",
    "storage[\"upto\"].fillna('512',inplace=True)\n",
    "storage[\"upto\"].replace({\"TB\":\"1000\",\"GB\":\"\",\"upto\":\"\"},regex=True,inplace=True)\n",
    "storage[\"upto\"]=storage[\"upto\"].str.strip()"
   ]
  },
  {
   "cell_type": "code",
   "execution_count": 398,
   "id": "09a4ebbb",
   "metadata": {},
   "outputs": [],
   "source": [
    "df[\"card\"]=storage['upto']"
   ]
  },
  {
   "cell_type": "code",
   "execution_count": 399,
   "id": "a7ac4bec",
   "metadata": {},
   "outputs": [],
   "source": [
    "display=df['display'].str.split(\",\",expand=True).rename(columns={0:\"inches\",1:\"pixel\",2:\"display Hz\"})\n",
    "display[\"inches\"].replace(\"inches\",\"\",inplace=True,regex=True)"
   ]
  },
  {
   "cell_type": "code",
   "execution_count": 400,
   "id": "7713740e",
   "metadata": {},
   "outputs": [
    {
     "data": {
      "text/plain": [
       "array(['6.7 ', '6.59 ', '6.6 ', '6.55 ', '6.1 ', '6.67 ', '6.43 ',\n",
       "       '6.72 ', '6.56 ', '6.58 ', '6.8 ', '6.51 ', '6.5 ', '6.44 ',\n",
       "       '6.4 ', '6.78 ', 'Foldable Display', '6.26 ', '6.53 ', '6.73 ',\n",
       "       '6.52 ', '6.14 ', '6.47 ', '6.62 ', '5 ', '6.68 ', 'Dual Display',\n",
       "       '6.54 ', '4.7 ', '3.54 ', '6.9 ', '6.82 ', '6.95 ', '6.3 ',\n",
       "       '6.71 ', '5.4 ', '5.42 ', '6.36 ', '6 ', '6.81 ', '5.45 ', '6.2 ',\n",
       "       '6.83 ', '5.7 ', '2.4 ', '6.49 ', '5.9 ', '7.92 ', '6.18 ', '4.5 ',\n",
       "       '5.5 ', '6.74 ', '2.8 ', '6.35 ', '6.66 ', '6.64 ', '6.28 ',\n",
       "       '6.92 ', '1.8 ', '6.76 ', '6.57 ', '6.91 ', '6.38 ', '6.06 ', '7 ',\n",
       "       '6.39 ', '6.22 ', '5.3 ', '5.84 ', '6.34 ', '6.09 ', '5.2 ',\n",
       "       '6.75 ', '5.86 '], dtype=object)"
      ]
     },
     "execution_count": 400,
     "metadata": {},
     "output_type": "execute_result"
    }
   ],
   "source": [
    "display[\"inches\"].unique()"
   ]
  },
  {
   "cell_type": "code",
   "execution_count": 401,
   "id": "49f85c1c",
   "metadata": {},
   "outputs": [],
   "source": [
    "display[\"inches\"]=np.where(display[\"inches\"].str.contains(\"Display\"),display[\"inches\"].mode(),display[\"inches\"])\n",
    "display[\"inches\"]=display[\"inches\"].str.strip()"
   ]
  },
  {
   "cell_type": "code",
   "execution_count": 402,
   "id": "e34a34eb",
   "metadata": {},
   "outputs": [
    {
     "data": {
      "text/plain": [
       "15"
      ]
     },
     "execution_count": 402,
     "metadata": {},
     "output_type": "execute_result"
    }
   ],
   "source": [
    "display['pixel'].isnull().sum()"
   ]
  },
  {
   "cell_type": "code",
   "execution_count": 403,
   "id": "9f8279cb",
   "metadata": {},
   "outputs": [
    {
     "data": {
      "text/plain": [
       "0     1080x2400px\n",
       "Name: pixel, dtype: object"
      ]
     },
     "execution_count": 403,
     "metadata": {},
     "output_type": "execute_result"
    }
   ],
   "source": [
    "display['pixel'].mode()"
   ]
  },
  {
   "cell_type": "code",
   "execution_count": 404,
   "id": "9063f949",
   "metadata": {},
   "outputs": [],
   "source": [
    "display['pixel'].fillna(\"1080x2400px\",inplace=True)"
   ]
  },
  {
   "cell_type": "code",
   "execution_count": 405,
   "id": "b23dad83",
   "metadata": {},
   "outputs": [
    {
     "data": {
      "text/plain": [
       " 720x1600px Display with Water Drop Notch     108\n",
       " 1080x2400px Display with Punch Hole           50\n",
       " 1080x2408px Display with Water Drop Notch     20\n",
       " 1080x2340px Display with Water Drop Notch     16\n",
       " Dual Display                                  15\n",
       "                                             ... \n",
       " 640x960px Display                              1\n",
       " 720x1600px Display with Small Notch            1\n",
       " 750x1334px Display with Large Notch            1\n",
       " 720x1600px Display with Large Notch            1\n",
       " 720x1520px Display with Large Notch            1\n",
       "Name: pixel, Length: 72, dtype: int64"
      ]
     },
     "execution_count": 405,
     "metadata": {},
     "output_type": "execute_result"
    }
   ],
   "source": [
    "display['pixel'][display['pixel'].str.contains(\"Display\")].value_counts()"
   ]
  },
  {
   "cell_type": "code",
   "execution_count": 406,
   "id": "200328e9",
   "metadata": {},
   "outputs": [
    {
     "data": {
      "text/plain": [
       "396"
      ]
     },
     "execution_count": 406,
     "metadata": {},
     "output_type": "execute_result"
    }
   ],
   "source": [
    "display['pixel'].replace({\"Display with Water Drop Notch\":\"\",\"Display with Punch Hole\":\"\",\"Display with Small Notch\":\"\"},inplace=True,regex=True)\n",
    "display['pixel'].replace({\"Display with Large Notch\":\"\",\"Dual Display\":\"\",\"Display\":\"\"},inplace=True,regex=True)\n",
    "display['pixel'].replace({\"px\":\"\"},inplace=True,regex=True)\n",
    "display['pixel']=display['pixel'].str.strip()\n",
    "display['display Hz'].isnull().sum()"
   ]
  },
  {
   "cell_type": "code",
   "execution_count": 407,
   "id": "8785653a",
   "metadata": {},
   "outputs": [
    {
     "data": {
      "text/plain": [
       " 120 Hz Display with Punch Hole          286\n",
       " 90 Hz Display with Punch Hole           129\n",
       " 90 Hz Display with Water Drop Notch      78\n",
       " 144 Hz Display with Punch Hole           33\n",
       " 120 Hz Display with Water Drop Notch     28\n",
       " 120 Hz Display                           19\n",
       " 165 Hz Display                            7\n",
       " 120 Hz Display with Small Notch           5\n",
       " 144 Hz Display                            5\n",
       " 90 Hz Display with Small Notch            4\n",
       " 90 Hz Display with Dual Punch Hole        4\n",
       " 120 Hz Display with Large Notch           3\n",
       " 90 Hz Display                             2\n",
       " 165 Hz Display with Punch Hole            1\n",
       " 144 Hz Display with Water Drop Notch      1\n",
       " 240 Hz Display with Punch Hole            1\n",
       "Name: display Hz, dtype: int64"
      ]
     },
     "execution_count": 407,
     "metadata": {},
     "output_type": "execute_result"
    }
   ],
   "source": [
    "display['display Hz'].value_counts()"
   ]
  },
  {
   "cell_type": "code",
   "execution_count": 408,
   "id": "e7f3f0e7",
   "metadata": {},
   "outputs": [],
   "source": [
    "display['display Hz'].replace({\"Display with Water Drop Notch\":\"\",\"Display with Punch Hole\":\"\",\"Display with Small Notch\":\"\"},inplace=True,regex=True)\n",
    "display['display Hz'].replace({\"Display with Large Notch\":\"\",\"Dual Display\":\"\",\"Display\":\"\"},inplace=True,regex=True)\n",
    "display['display Hz'].replace({\"Hz\":\"\",\"with Dual Punch Hole\":\"\"},inplace=True,regex=True)"
   ]
  },
  {
   "cell_type": "code",
   "execution_count": 409,
   "id": "35f32af3",
   "metadata": {},
   "outputs": [
    {
     "data": {
      "text/plain": [
       "0     120  \n",
       "Name: display Hz, dtype: object"
      ]
     },
     "execution_count": 409,
     "metadata": {},
     "output_type": "execute_result"
    }
   ],
   "source": [
    "display['display Hz'].mode()"
   ]
  },
  {
   "cell_type": "code",
   "execution_count": 410,
   "id": "e2f4c95e",
   "metadata": {},
   "outputs": [],
   "source": [
    "display['display Hz'].fillna(\"120\",inplace=True)\n",
    "display['display Hz']=display['display Hz'].str.strip()"
   ]
  },
  {
   "cell_type": "code",
   "execution_count": 411,
   "id": "d9daf3b3",
   "metadata": {},
   "outputs": [
    {
     "data": {
      "text/plain": [
       "OnePlus 11 5G                1\n",
       "Motorola One Fusion Plus     1\n",
       "Xiaomi Redmi Note 11E 5G     1\n",
       "Honor Magic 4 Pro Plus 5G    1\n",
       "Tecno Spark 9T               1\n",
       "                            ..\n",
       "OnePlus 9 Pro                1\n",
       "Xiaomi Redmi Note 11S        1\n",
       "Xiaomi Redmi 9 Activ         1\n",
       "Tecno Camon 19 Pro 5G        1\n",
       "Samsung Galaxy M52s 5G       1\n",
       "Name: model, Length: 1002, dtype: int64"
      ]
     },
     "execution_count": 411,
     "metadata": {},
     "output_type": "execute_result"
    }
   ],
   "source": [
    "df['model'].value_counts()"
   ]
  },
  {
   "cell_type": "code",
   "execution_count": 412,
   "id": "c0fc6e17",
   "metadata": {},
   "outputs": [],
   "source": [
    "df['model']=np.where(df['model'].str.contains(\"OnePlus\"),'OnePlus',df['model'])\n",
    "df['model']=np.where(df['model'].str.contains(\"Honor\"),'Honor',df['model'])\n",
    "df['model']=np.where(df['model'].str.contains(\"Xiaomi\"),'Xiaomi',df['model'])\n",
    "df['model']=np.where(df['model'].str.contains(\"Oppo\"),'Oppo',df['model'])\n",
    "df['model']=np.where(df['model'].str.contains(\"LG\"),'LG',df['model'])\n",
    "df['model']=np.where(df['model'].str.contains(\"Motorola\"),'Motorola',df['model'])\n",
    "df['model']=np.where(df['model'].str.contains(\"Tecno\"),'Tecno',df['model'])\n",
    "df['model']=np.where(df['model'].str.contains(\"Samsung\"),'Samsung',df['model'])\n",
    "df['model']=np.where(df['model'].str.contains(\"POCO\"),'POCO',df['model'])\n",
    "df['model']=np.where(df['model'].str.contains(\"Vivo\"),'Vivo',df['model'])\n",
    "df['model']=np.where(df['model'].str.contains(\"Poco\"),'POCO',df['model'])\n",
    "df['model']=np.where(df['model'].str.contains(\"Apple\"),'Apple',df['model'])\n",
    "df['model']=np.where(df['model'].str.contains(\"Nothing\"),'Nothing',df['model'])\n",
    "df['model']=np.where(df['model'].str.contains(\"Realme\"),'Realme',df['model'])\n",
    "df['model']=np.where(df['model'].str.contains(\"OPPO\"),'Oppo',df['model'])\n",
    "df['model']=np.where(df['model'].str.contains(\"POCO\"),'POCO',df['model'])\n",
    "df['model']=np.where(df['model'].str.contains(\"iQOO\"),'iQOO',df['model'])\n",
    "df['model']=np.where(df['model'].str.contains(\"Gionee\"),'Gionee',df['model'])\n",
    "df['model']=np.where(df['model'].str.contains(\"Nokia\"),'Nokia',df['model'])\n",
    "df['model']=np.where(df['model'].str.contains(\"Google\"),'Google',df['model'])\n",
    "df['model']=np.where(df['model'].str.contains(\"Huawei\"),'Huawei',df['model'])\n",
    "df['model']=np.where(df['model'].str.contains(\"Lenovo\"),'Lenovo',df['model'])\n",
    "df['model']=np.where(df['model'].str.contains(\"Infinix\"),'Infinix',df['model'])\n",
    "df['model']=np.where(df['model'].str.contains(\"Sony\"),'Sony',df['model'])\n",
    "df['model']=np.where(df['model'].str.contains(\"Lava\"),'Lava',df['model'])\n",
    "df['model']=np.where(df['model'].str.contains(\"Micromax\"),'Micromax',df['model'])\n",
    "df['model']=np.where(df['model'].str.contains(\"Asus\"),'Asus',df['model'])\n",
    "df['model']=np.where(df['model'].str.contains(\"Doogee\"),'Doogee',df['model'])\n",
    "df['model']=np.where(df['model'].str.contains(\"Nubia\"),'Nubia',df['model'])\n",
    "df['model']=np.where(df['model'].str.contains(\"Redmi\"),'Redmi',df['model'])\n",
    "df['model']=np.where(df['model'].str.contains(\"Jio\"),'Jio',df['model'])\n",
    "df['model']=np.where(df['model'].str.contains(\"itel\"),'itel',df['model'])\n",
    "df['model']=np.where(df['model'].str.contains(\"iKall\"),'iKall',df['model'])\n",
    "df['model']=np.where(df['model'].str.contains(\"Lyf\"),'Lyf',df['model'])\n",
    "df['model']=np.where(df['model'].str.contains(\"Itel\"),'itel',df['model'])\n",
    "df['model']=np.where(df['model'].str.contains(\"ZTE\"),'ZTE',df['model'])\n",
    "df['model']=np.where(df['model'].str.contains(\"Letv\"),'Letv',df['model'])"
   ]
  },
  {
   "cell_type": "code",
   "execution_count": 413,
   "id": "de62423d",
   "metadata": {},
   "outputs": [
    {
     "data": {
      "text/plain": [
       "array(['Android v13', 'Android v12', 'iOS v16', 'iOS v15', 'Android v11',\n",
       "       'Android v10', 'iOS v13', 'HarmonyOS v2', 'iOS v15.0', 'iOS v14',\n",
       "       'Android v10.0', 'Android v8.1 (Oreo)', 'iOS v13.0',\n",
       "       'Android v11.0', 'Android v9.0 (Pie)', 'Android v12.1',\n",
       "       'iOS v12.3', 'Unisoc T107', 'KAI OS', 'iOS v17',\n",
       "       'Android v4.4.2 (KitKat)', 'Android v5.1 (Lollipop)',\n",
       "       'Android v5.1.1 (Lollipop)', 'Hongmeng OS v3.0', 'Bluetooth',\n",
       "       'Android v8.0 (Oreo)', 'T117', 'Android v6.0 (Marshmallow)',\n",
       "       'Pragati OS (Powered by Android)', 'iOS v10', 'RTOS (Series 30+)',\n",
       "       'iOS v14.0', 'Harmony v2.0', 'Nucleus', 'Hongmeng OS v4.0',\n",
       "       'HarmonyOS v2.0', 'EMUI v12', 'HarmonyOS', 'Android v7.1 (Nougat)',\n",
       "       'Android', 'Android v9 (Pie)'], dtype=object)"
      ]
     },
     "execution_count": 413,
     "metadata": {},
     "output_type": "execute_result"
    }
   ],
   "source": [
    "df['os'].unique()"
   ]
  },
  {
   "cell_type": "code",
   "execution_count": 414,
   "id": "dd00ccb4",
   "metadata": {},
   "outputs": [],
   "source": [
    "df['os']=np.where(df['os'].str.contains(\"Android\"),'Android',df['os'])\n",
    "df['os']=np.where(df['os'].str.contains(\"iOS\"),'iOS',df['os'])\n",
    "df['os']=np.where(df['os'].str.contains(\"HarmonyOS\"),'Harmony',df['os'])\n",
    "df['os']=np.where(df['os'].str.contains(\"Hongmeng\"),'Hongmeng',df['os'])\n",
    "df['os']=np.where(df['os'].str.contains(\"Harmony\"),'Harmony',df['os'])"
   ]
  },
  {
   "cell_type": "code",
   "execution_count": 415,
   "id": "a88108db",
   "metadata": {},
   "outputs": [],
   "source": [
    "df['price'].replace(\",\",\"\",regex=True,inplace=True)"
   ]
  },
  {
   "cell_type": "code",
   "execution_count": 416,
   "id": "2b660bff",
   "metadata": {},
   "outputs": [
    {
     "data": {
      "text/plain": [
       "array(['12GB RAM', '6GB RAM', '4GB RAM', '8GB RAM', '3GB RAM', '16GB RAM',\n",
       "       '2GB RAM', '512MB RAM', '18GB RAM', '48MB RAM', '1GB RAM',\n",
       "       '64GB inbuilt', '512GB inbuilt', '64MB RAM', '32MB RAM', '8MB RAM',\n",
       "       '4MB inbuilt'], dtype=object)"
      ]
     },
     "execution_count": 416,
     "metadata": {},
     "output_type": "execute_result"
    }
   ],
   "source": [
    "ram=df[\"ram\"].str.split(\",\",expand=True).rename(columns={0:\"RAM\",1:\"inbuilt\"})\n",
    "ram['RAM'].unique()"
   ]
  },
  {
   "cell_type": "code",
   "execution_count": 417,
   "id": "c630e554",
   "metadata": {},
   "outputs": [
    {
     "data": {
      "text/plain": [
       "array([' 256GB inbuilt', ' 128GB inbuilt', ' 64GB inbuilt',\n",
       "       ' 32GB inbuilt', ' 512GB inbuilt', ' 512MB inbuilt',\n",
       "       ' 4GB inbuilt', ' 1TB inbuilt', ' 128MB inbuilt', ' 16GB inbuilt',\n",
       "       None, ' 8GB inbuilt', ' 32MB inbuilt', ' 16MB inbuilt',\n",
       "       ' 48MB inbuilt'], dtype=object)"
      ]
     },
     "execution_count": 417,
     "metadata": {},
     "output_type": "execute_result"
    }
   ],
   "source": [
    "ram['inbuilt'].unique()"
   ]
  },
  {
   "cell_type": "code",
   "execution_count": 418,
   "id": "4e2b3929",
   "metadata": {},
   "outputs": [
    {
     "data": {
      "text/plain": [
       "4"
      ]
     },
     "execution_count": 418,
     "metadata": {},
     "output_type": "execute_result"
    }
   ],
   "source": [
    "ram['inbuilt'].isnull().sum()"
   ]
  },
  {
   "cell_type": "code",
   "execution_count": 419,
   "id": "770c92a2",
   "metadata": {},
   "outputs": [],
   "source": [
    "ram['inbuilt']=np.where(ram['RAM'].str.contains(\"inbuilt\"),ram['RAM'],ram['inbuilt'])"
   ]
  },
  {
   "cell_type": "code",
   "execution_count": 420,
   "id": "7003e2d9",
   "metadata": {},
   "outputs": [
    {
     "data": {
      "text/plain": [
       "0    8GB RAM\n",
       "Name: RAM, dtype: object"
      ]
     },
     "execution_count": 420,
     "metadata": {},
     "output_type": "execute_result"
    }
   ],
   "source": [
    "ram['RAM'].mode()"
   ]
  },
  {
   "cell_type": "code",
   "execution_count": 421,
   "id": "51059f2a",
   "metadata": {},
   "outputs": [],
   "source": [
    "ram['RAM']=np.where(ram['RAM'].str.contains(\"inbuilt\"),\"8GB RAM\",ram['RAM'])\n",
    "ram['RAM']=np.where(ram['RAM'].str.contains(\"MB\"),\"1GB\",ram['RAM'])\n",
    "ram['RAM'].replace({\"RAM\":\"\",\"MB\":\"\",\"GB\":\"\"},regex=True,inplace=True)\n",
    "ram['inbuilt']=np.where(ram['inbuilt'].str.contains(\"MB\"),\"1GB\",ram['inbuilt'])\n",
    "ram['inbuilt'].replace({\"inbuilt\":\"\",\"TB\":\"1000\",\"GB\":\"\"},regex=True,inplace=True)"
   ]
  },
  {
   "cell_type": "code",
   "execution_count": 422,
   "id": "5f99e875",
   "metadata": {},
   "outputs": [],
   "source": [
    "ram['inbuilt']=ram['inbuilt'].str.strip()\n",
    "ram['RAM']=ram['RAM'].str.strip()"
   ]
  },
  {
   "cell_type": "code",
   "execution_count": 423,
   "id": "3e85b532",
   "metadata": {},
   "outputs": [],
   "source": [
    "df.drop(columns=\"sim\",inplace=True)"
   ]
  },
  {
   "cell_type": "code",
   "execution_count": 424,
   "id": "eda8f686",
   "metadata": {},
   "outputs": [
    {
     "data": {
      "text/plain": [
       "Dimensity 700 5G      39\n",
       "Helio P35             28\n",
       "Snapdragon 8+ Gen1    26\n",
       "Snapdragon 8 Gen2     23\n",
       "Snapdragon 695        23\n",
       "                      ..\n",
       "Tiger T606             1\n",
       "Snapdragon 615         1\n",
       "Helio MT6580           1\n",
       "Helio  G95             1\n",
       "Google  Tensor 3       1\n",
       "Name: type, Length: 255, dtype: int64"
      ]
     },
     "execution_count": 424,
     "metadata": {},
     "output_type": "execute_result"
    }
   ],
   "source": [
    "processor=df[\"processor\"].str.split(\",\",expand=True).rename(columns={0:\"type\",1:\"core\",2:\"processor Hz\"})\n",
    "processor['type'].value_counts()"
   ]
  },
  {
   "cell_type": "code",
   "execution_count": 425,
   "id": "7e60e67d",
   "metadata": {},
   "outputs": [],
   "source": [
    "processor['type']=np.where(processor['type'].str.contains(\"Dimensity\"),\"Dimensity\",processor['type'])\n",
    "processor['type']=np.where(processor['type'].str.contains(\"Snapdragon\"),\"Snapdragon\",processor['type'])\n",
    "processor['type']=np.where(processor['type'].str.contains(\"Helio\"),\"Helio\",processor['type'])\n",
    "processor['type']=np.where(processor['type'].str.contains(\"Tiger\"),\"Tiger\",processor['type'])\n",
    "processor['type']=np.where(processor['type'].str.contains(\"Unisoc\"),\"Unisoc\",processor['type'])\n",
    "processor['type']=np.where(processor['type'].str.contains(\"Sanpdragon\"),\"Snapdragon\",processor['type'])\n",
    "processor['type']=np.where(processor['type'].str.contains(\"Bionic\"),\"Bionic\",processor['type'])\n",
    "processor['type']=np.where(processor['type'].str.contains(\"Google\"),\"Google\",processor['type'])\n",
    "processor['type']=np.where(processor['type'].str.contains(\"Apple\"),\"Apple\",processor['type'])\n",
    "processor['type']=np.where(processor['type'].str.contains(\"Exynos\"),\"Exynos\",processor['type'])\n",
    "processor['type']=np.where(processor['type'].str.contains(\"Fusion\"),\"Fusion\",processor['type'])\n",
    "processor['type']=np.where(processor['type'].str.contains(\"Spreadtrum\"),\"Spreadtrum\",processor['type'])\n",
    "processor['type']=np.where(processor['type'].str.contains(\"Kirin\"),\"Kirin\",processor['type'])"
   ]
  },
  {
   "cell_type": "code",
   "execution_count": 426,
   "id": "74d2d77f",
   "metadata": {},
   "outputs": [
    {
     "data": {
      "text/plain": [
       "20"
      ]
     },
     "execution_count": 426,
     "metadata": {},
     "output_type": "execute_result"
    }
   ],
   "source": [
    "processor['core'].isnull().sum()"
   ]
  },
  {
   "cell_type": "code",
   "execution_count": 427,
   "id": "9ad3a994",
   "metadata": {},
   "outputs": [
    {
     "data": {
      "text/plain": [
       "(22,)"
      ]
     },
     "execution_count": 427,
     "metadata": {},
     "output_type": "execute_result"
    }
   ],
   "source": [
    "processor['type'][processor['type'].str.contains(\"Core\")].shape"
   ]
  },
  {
   "cell_type": "code",
   "execution_count": 428,
   "id": "f0c0b3c0",
   "metadata": {},
   "outputs": [
    {
     "data": {
      "text/plain": [
       "0     Octa Core\n",
       "Name: core, dtype: object"
      ]
     },
     "execution_count": 428,
     "metadata": {},
     "output_type": "execute_result"
    }
   ],
   "source": [
    "processor['core']=np.where(processor['type'].str.contains(\"Core\"),processor['type'],processor['core'])\n",
    "processor['core'].mode()"
   ]
  },
  {
   "cell_type": "code",
   "execution_count": 429,
   "id": "7a9bc170",
   "metadata": {},
   "outputs": [],
   "source": [
    "processor['core'].fillna(\"Octa Core\",inplace=True)"
   ]
  },
  {
   "cell_type": "code",
   "execution_count": 430,
   "id": "670dd095",
   "metadata": {},
   "outputs": [],
   "source": [
    "processor['type']=np.where(processor['type'].str.contains(\"Core\"),\"Snapdragon\",processor['type'])\n",
    "processor['core'].replace({\"Core\":\"\",\"Processor\":\"\"},inplace=True,regex=True)\n",
    "processor['core']=processor['core'].str.strip()"
   ]
  },
  {
   "cell_type": "code",
   "execution_count": 431,
   "id": "d2f1bf23",
   "metadata": {},
   "outputs": [
    {
     "data": {
      "text/plain": [
       "61"
      ]
     },
     "execution_count": 431,
     "metadata": {},
     "output_type": "execute_result"
    }
   ],
   "source": [
    "processor['processor Hz'].isnull().sum()"
   ]
  },
  {
   "cell_type": "code",
   "execution_count": 432,
   "id": "c7635c03",
   "metadata": {},
   "outputs": [
    {
     "data": {
      "text/plain": [
       "0     2.2GHz Processor\n",
       "Name: processor Hz, dtype: object"
      ]
     },
     "execution_count": 432,
     "metadata": {},
     "output_type": "execute_result"
    }
   ],
   "source": [
    "processor['processor Hz'].mode()"
   ]
  },
  {
   "cell_type": "code",
   "execution_count": 433,
   "id": "f1f8b6f9",
   "metadata": {},
   "outputs": [
    {
     "data": {
      "text/plain": [
       " 2.2GHz Processor     144\n",
       " 2GHz Processor       143\n",
       " 2.4GHz Processor     128\n",
       " 3.2GHz Processor      94\n",
       " 2.3GHz Processor      86\n",
       "2.2GHz Processor       61\n",
       " 3GHz Processor        53\n",
       " 2.84GHz Processor     36\n",
       " 2.05GHz Processor     28\n",
       " 2.5GHz Processor      23\n",
       " 1.8GHz Processor      22\n",
       " 2.85GHz Processor     19\n",
       " 3.22GHz Processor     18\n",
       " 1.6GHz Processor      18\n",
       " 3.1GHz Processor      15\n",
       " 2.6GHz Processor      14\n",
       " 2.9GHz Processor      13\n",
       " 1.82GHz Processor     10\n",
       " 2.73GHz Processor      9\n",
       " 2.8GHz Processor       9\n",
       " 3.05GHz Processor      8\n",
       " 1.3GHz Processor       8\n",
       " 2.36GHz Processor      8\n",
       " 2.65GHz Processor      5\n",
       " 2.7GHz Processor       5\n",
       " 1.5GHz Processor       4\n",
       " 1.4GHz Processor       4\n",
       " 1.1GHz Processor       3\n",
       " 2.96GHz Processor      3\n",
       " 2.86GHz Processor      3\n",
       " 3.13GHz Processor      2\n",
       " 2.35GHz Processor      1\n",
       " 2.37GHz Processor      1\n",
       " 1.99GHz Processor      1\n",
       " 1.95GHz Processor      1\n",
       " 2.1GHz Processor       1\n",
       " 1.2GHz Processor       1\n",
       "Name: processor Hz, dtype: int64"
      ]
     },
     "execution_count": 433,
     "metadata": {},
     "output_type": "execute_result"
    }
   ],
   "source": [
    "processor['processor Hz'].fillna(\"2.2GHz Processor\",inplace=True)\n",
    "processor['processor Hz'].value_counts()"
   ]
  },
  {
   "cell_type": "code",
   "execution_count": 434,
   "id": "5e7e5971",
   "metadata": {},
   "outputs": [],
   "source": [
    "processor['processor Hz'].replace({\"GHz Processor\":\"\"},regex=True,inplace=True)\n",
    "processor['processor Hz']=processor['processor Hz'].str.strip()"
   ]
  },
  {
   "cell_type": "code",
   "execution_count": 435,
   "id": "3351cb67",
   "metadata": {},
   "outputs": [
    {
     "data": {
      "text/plain": [
       "0    2\n",
       "Name: Additional Camera, dtype: object"
      ]
     },
     "execution_count": 435,
     "metadata": {},
     "output_type": "execute_result"
    }
   ],
   "source": [
    "Rear_Camera['Additional Camera'].mode()"
   ]
  },
  {
   "cell_type": "code",
   "execution_count": 436,
   "id": "a583dc83",
   "metadata": {},
   "outputs": [
    {
     "data": {
      "text/plain": [
       "0    50\n",
       "Name: Primary Camera, dtype: object"
      ]
     },
     "execution_count": 436,
     "metadata": {},
     "output_type": "execute_result"
    }
   ],
   "source": [
    "Rear_Camera['Primary Camera'].mode()"
   ]
  },
  {
   "cell_type": "code",
   "execution_count": 437,
   "id": "24391534",
   "metadata": {},
   "outputs": [
    {
     "data": {
      "text/plain": [
       "0    2\n",
       "Name: Secondary Camera, dtype: object"
      ]
     },
     "execution_count": 437,
     "metadata": {},
     "output_type": "execute_result"
    }
   ],
   "source": [
    "Rear_Camera['Secondary Camera'].mode()"
   ]
  },
  {
   "cell_type": "code",
   "execution_count": 438,
   "id": "450f8501",
   "metadata": {},
   "outputs": [],
   "source": [
    "Rear_Camera['Additional Camera'].fillna(2,inplace=True)\n",
    "Rear_Camera['Primary Camera'].fillna(50,inplace=True)\n",
    "Rear_Camera['Secondary Camera'].fillna(2,inplace=True)"
   ]
  },
  {
   "cell_type": "code",
   "execution_count": 439,
   "id": "6a5d2d21",
   "metadata": {},
   "outputs": [
    {
     "data": {
      "text/plain": [
       "24"
      ]
     },
     "execution_count": 439,
     "metadata": {},
     "output_type": "execute_result"
    }
   ],
   "source": [
    "frontCam[\"Main Camera\"].isnull().sum()"
   ]
  },
  {
   "cell_type": "code",
   "execution_count": 440,
   "id": "0a85806b",
   "metadata": {},
   "outputs": [
    {
     "data": {
      "text/plain": [
       "0    16\n",
       "Name: Main Camera, dtype: object"
      ]
     },
     "execution_count": 440,
     "metadata": {},
     "output_type": "execute_result"
    }
   ],
   "source": [
    "frontCam[\"Main Camera\"].mode()"
   ]
  },
  {
   "cell_type": "code",
   "execution_count": 441,
   "id": "c5920650",
   "metadata": {},
   "outputs": [],
   "source": [
    "frontCam.drop(columns=\"Additional Camera\",inplace=True)\n",
    "frontCam['Main Camera'].fillna(16,inplace=True)"
   ]
  },
  {
   "cell_type": "code",
   "execution_count": 442,
   "id": "d67c842f",
   "metadata": {},
   "outputs": [],
   "source": [
    "df=pd.concat([df,battery],axis=1)\n",
    "df=pd.concat([df,Rear_Camera],axis=1)\n",
    "df=pd.concat([df,frontCam],axis=1)\n",
    "df=pd.concat([df,display],axis=1)\n",
    "df=pd.concat([df,processor],axis=1)\n",
    "df=pd.concat([df,ram],axis=1)"
   ]
  },
  {
   "cell_type": "code",
   "execution_count": 443,
   "id": "c3f5ff41",
   "metadata": {},
   "outputs": [],
   "source": [
    "df.drop(columns=[\"processor\",\"ram\",\"battery\",\"display\",\"camera\"],inplace=True)"
   ]
  },
  {
   "cell_type": "code",
   "execution_count": 449,
   "id": "6e1540f8",
   "metadata": {},
   "outputs": [
    {
     "data": {
      "text/plain": [
       "Index(['model', 'price', 'rating', 'card', 'os', 'battery_capacity',\n",
       "       'charging_capacity', 'Primary Camera', 'Secondary Camera',\n",
       "       'Additional Camera', 'Main Camera', 'inches', 'pixel', 'display Hz',\n",
       "       'type', 'core', 'processor Hz', 'RAM', 'inbuilt'],\n",
       "      dtype='object')"
      ]
     },
     "execution_count": 449,
     "metadata": {},
     "output_type": "execute_result"
    }
   ],
   "source": [
    "df.columns"
   ]
  },
  {
   "cell_type": "code",
   "execution_count": 450,
   "id": "2931cf5f",
   "metadata": {},
   "outputs": [
    {
     "name": "stdout",
     "output_type": "stream",
     "text": [
      "<class 'pandas.core.frame.DataFrame'>\n",
      "Int64Index: 1002 entries, 0 to 1019\n",
      "Data columns (total 19 columns):\n",
      " #   Column             Non-Null Count  Dtype  \n",
      "---  ------             --------------  -----  \n",
      " 0   model              1002 non-null   object \n",
      " 1   price              1002 non-null   int32  \n",
      " 2   rating             1002 non-null   float64\n",
      " 3   card               1002 non-null   int32  \n",
      " 4   os                 1002 non-null   object \n",
      " 5   battery_capacity   1002 non-null   int32  \n",
      " 6   charging_capacity  1002 non-null   float64\n",
      " 7   Primary Camera     1002 non-null   float64\n",
      " 8   Secondary Camera   1002 non-null   float64\n",
      " 9   Additional Camera  1002 non-null   float64\n",
      " 10  Main Camera        1002 non-null   float64\n",
      " 11  inches             1002 non-null   float64\n",
      " 12  pixel              1002 non-null   object \n",
      " 13  display Hz         1002 non-null   int32  \n",
      " 14  type               1002 non-null   object \n",
      " 15  core               1002 non-null   object \n",
      " 16  processor Hz       1002 non-null   float64\n",
      " 17  RAM                1002 non-null   int32  \n",
      " 18  inbuilt            1002 non-null   int32  \n",
      "dtypes: float64(8), int32(6), object(5)\n",
      "memory usage: 133.1+ KB\n"
     ]
    }
   ],
   "source": [
    "df.info()"
   ]
  },
  {
   "cell_type": "code",
   "execution_count": 451,
   "id": "b3be6b5f",
   "metadata": {},
   "outputs": [],
   "source": [
    "df[\"Additional Camera\"]=df[\"Additional Camera\"].astype(float)\n",
    "df[\"Main Camera\"]=df[\"Main Camera\"].astype(float)\n",
    "df['Primary Camera']=df['Primary Camera'].astype(float)\n",
    "df['RAM']=df['RAM'].astype(int)\n",
    "df['Secondary Camera'].replace(\"\",\"1\",inplace=True)\n",
    "df['Secondary Camera']=df['Secondary Camera'].astype(float)\n",
    "df['battery_capacity']=df['battery_capacity'].astype(int)\n",
    "df['card']=df['card'].astype(int)\n",
    "df['charging_capacity']=df['charging_capacity'].astype(float)\n",
    "df['display Hz']=df['display Hz'].astype(int)\n",
    "df['inbuilt']=df['inbuilt'].astype(int)\n",
    "df['inches']=df['inches'].astype(float)\n",
    "df['price']=df['price'].astype(int)\n",
    "df['processor Hz']=df['processor Hz'].astype(float)"
   ]
  },
  {
   "cell_type": "code",
   "execution_count": 452,
   "id": "4a4a963d",
   "metadata": {},
   "outputs": [],
   "source": [
    "df_copy=df.copy()"
   ]
  },
  {
   "cell_type": "code",
   "execution_count": 453,
   "id": "3103820f",
   "metadata": {},
   "outputs": [],
   "source": [
    "catcols=df.select_dtypes(include='O')"
   ]
  },
  {
   "cell_type": "code",
   "execution_count": 454,
   "id": "32ebe148",
   "metadata": {},
   "outputs": [],
   "source": [
    "from sklearn.preprocessing import OrdinalEncoder\n",
    "oe=OrdinalEncoder()\n",
    "df[catcols.columns]=oe.fit_transform(catcols)"
   ]
  },
  {
   "cell_type": "code",
   "execution_count": 455,
   "id": "f88ae8c8",
   "metadata": {},
   "outputs": [],
   "source": [
    "X = df.drop(columns=['price',\"pixel\"])\n",
    "y = df['price']"
   ]
  },
  {
   "cell_type": "code",
   "execution_count": 456,
   "id": "66499cdd",
   "metadata": {},
   "outputs": [],
   "source": [
    "from sklearn.model_selection import train_test_split\n",
    "X_train,X_test,y_train,y_test = train_test_split(X,y,test_size=0.15,random_state=500)"
   ]
  },
  {
   "cell_type": "code",
   "execution_count": 457,
   "id": "1206a08b",
   "metadata": {},
   "outputs": [],
   "source": [
    "from sklearn.metrics import r2_score,mean_absolute_error\n",
    "from sklearn.linear_model import LinearRegression\n",
    "model_1=LinearRegression()"
   ]
  },
  {
   "cell_type": "code",
   "execution_count": 458,
   "id": "e2653888",
   "metadata": {},
   "outputs": [
    {
     "name": "stdout",
     "output_type": "stream",
     "text": [
      "R2 score 0.6344503343119883\n",
      "MAE 13441.016630991378\n"
     ]
    }
   ],
   "source": [
    "model_1.fit(X_train,y_train)\n",
    "model_1.score(X_train,y_train)\n",
    "y_pred = model_1.predict(X_test)\n",
    "print('R2 score',r2_score(y_test,y_pred))\n",
    "print('MAE',mean_absolute_error(y_test,y_pred))"
   ]
  },
  {
   "cell_type": "code",
   "execution_count": 459,
   "id": "95dc80c1",
   "metadata": {},
   "outputs": [
    {
     "data": {
      "image/png": "[encoded data removed]",
      "text/plain": [
       "<Figure size 640x480 with 2 Axes>"
      ]
     },
     "metadata": {},
     "output_type": "display_data"
    }
   ],
   "source": [
    "# plt.figure(figsize=(12,5))\n",
    "# sns.heatmap(X.corr(),annot=True)\n",
    "# plt.show()\n",
    "import seaborn as sns\n",
    "import matplotlib.pyplot as plt\n",
    "\n",
    "# Assuming X is your DataFrame\n",
    "sns.heatmap(X.corr(), annot=True)\n",
    "\n",
    "# Display the plot\n",
    "plt.show()\n",
    "\n"
   ]
  }
 ],
 "metadata": {
  "kernelspec": {
   "display_name": "Python 3 (ipykernel)",
   "language": "python",
   "name": "python3"
  },
  "language_info": {
   "codemirror_mode": {
    "name": "ipython",
    "version": 3
   },
   "file_extension": ".py",
   "mimetype": "text/x-python",
   "name": "python",
   "nbconvert_exporter": "python",
   "pygments_lexer": "ipython3",
   "version": "3.11.3"
  }
 },
 "nbformat": 4,
 "nbformat_minor": 5
}
